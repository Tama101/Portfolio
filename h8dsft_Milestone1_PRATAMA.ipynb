{
  "nbformat": 4,
  "nbformat_minor": 0,
  "metadata": {
    "colab": {
      "provenance": [],
      "collapsed_sections": [
        "fvZ0sEU7xGhH",
        "gD8bvai3xVR-",
        "-Oofdtp62PiX",
        "TKTrgrYGic3_",
        "jY6E0Jmx2Sm4",
        "X9X2dacHip0z",
        "A1-H3zH3kBDw",
        "k2HC7PuSqh6g",
        "5WWupXZXrolS",
        "ltJFe40BEymh",
        "ILnOR7MZv2SL",
        "b-Ksx2aw0Wbu",
        "HqtGut4z85_E",
        "Wvv5SxC3w_mm",
        "t8Jx--DQQt7C",
        "MUDLF69W4wJS"
      ]
    },
    "kernelspec": {
      "name": "python3",
      "display_name": "Python 3"
    },
    "language_info": {
      "name": "python"
    }
  },
  "cells": [
    {
      "cell_type": "markdown",
      "source": [
        "#**MILESTONE - 1**  \n",
        "Pratama Waskito Prihandaa - FTDS BATCH 003  \n",
        "\n",
        "Dashboard link :\n",
        "https://datastudio.google.com/s/sY-p3QXo_YU"
      ],
      "metadata": {
        "id": "fvZ0sEU7xGhH"
      }
    },
    {
      "cell_type": "markdown",
      "source": [
        "# PROBLEM STATEMENT"
      ],
      "metadata": {
        "id": "gD8bvai3xVR-"
      }
    },
    {
      "cell_type": "markdown",
      "source": [
        "## Definition"
      ],
      "metadata": {
        "id": "-Oofdtp62PiX"
      }
    },
    {
      "cell_type": "markdown",
      "source": [
        "What is family violence?\n",
        "\n",
        "Family violence is any threatening, coercive, dominating or abusive behaviour that occurs between people in a family, domestic or intimate relationship, or former intimate relationship, that causes the person experiencing the behaviour to feel fear.\n",
        "\n",
        "Family violence is not only an argument once in a while, it is a continuous pattern of abusive behaviour perpetrated by one person towards another.\n",
        "\n",
        "In West Java, family violence covers a range of behaviours committed by a person against a family member. All the behaviours aim to control a family member through fear, and include the following:\n",
        "\n",
        "  * physical abuse\n",
        "  * sexual abuse\n",
        "  * emotional or psychological abuse\n",
        "  * any other behavior that cause family member to fear for their safety\n",
        "\n",
        "In this dataset contains the number of victim of family violence based on gender in province West Java from year 2017 to 2021.  \n",
        "This dataset was created by Dinas Pemberdayaan Perempuan Perlindungan Anak dan Keluarga Berencana, the government institution for family and children protection in Indonesia.\n",
        "\n",
        "The data source is from :  \n",
        "https://opendata.jabarprov.go.id/id/dataset/jumlah-korban-kekerasan-terhadap-anak-laki-laki-berdasarkan-kelompok-usia-dan-kabupatenkota-di-jawa-barat\n",
        "\n",
        "and \n",
        "\n",
        "https://opendata.jabarprov.go.id/id/dataset/jumlah-korban-kekerasan-terhadap-anak-perempuan-berdasarkan-kelompok-usia-dan-kabupatenkota-di-jawa-barat\n"
      ],
      "metadata": {
        "id": "zMr-y-B5xbV9"
      }
    },
    {
      "cell_type": "markdown",
      "source": [
        "## Objective"
      ],
      "metadata": {
        "id": "TKTrgrYGic3_"
      }
    },
    {
      "cell_type": "markdown",
      "source": [
        "To get statistical insight about social issue regarding the family violence in West Java province and to give analysis result to government of the statistical insight."
      ],
      "metadata": {
        "id": "f_fz3NXF5EQr"
      }
    },
    {
      "cell_type": "markdown",
      "source": [
        "## Question"
      ],
      "metadata": {
        "id": "jY6E0Jmx2Sm4"
      }
    },
    {
      "cell_type": "markdown",
      "source": [
        "1. What city is the highest number of family violence towards male?\n",
        "2. What city is the highest number of family violence towards female?\n",
        "3. In what range of age male and female has the highest number of victim in family violence?\n",
        "4. What city is the lowest number of family violence towards both male and female?\n",
        "5. Which gender is the highest number of victim in West Java province?\n",
        "6. From 2017 to 2021, what city is the first rank from month to month towards male and female?"
      ],
      "metadata": {
        "id": "u1pl-7ku2trZ"
      }
    },
    {
      "cell_type": "markdown",
      "source": [
        "# IMPORTING LIBRARY"
      ],
      "metadata": {
        "id": "X9X2dacHip0z"
      }
    },
    {
      "cell_type": "code",
      "source": [
        "import pandas as pd\n",
        "import numpy as np\n",
        "import matplotlib.pyplot as plt\n",
        "from scipy.integrate import trapz\n",
        "import math\n",
        "import sympy as sy\n",
        "import random\n",
        "import matplotlib.pyplot as plt\n",
        "import scipy.stats as stats\n",
        "import sklearn\n",
        "import seaborn as sns\n",
        "from google.colab import auth\n",
        "from google.cloud import bigquery\n",
        "from google.colab import data_table\n",
        "\n",
        "auth.authenticate_user()\n",
        "print('Authenticated')\n",
        "\n",
        "project_id = 'hacktiv8-tama'\n",
        "client = bigquery.Client(project = project_id)"
      ],
      "metadata": {
        "id": "aqMBu31Zi3XT",
        "colab": {
          "base_uri": "https://localhost:8080/"
        },
        "outputId": "398db1a7-3d4e-4d20-d60d-237c670b0d45"
      },
      "execution_count": 105,
      "outputs": [
        {
          "output_type": "stream",
          "name": "stdout",
          "text": [
            "Authenticated\n"
          ]
        }
      ]
    },
    {
      "cell_type": "markdown",
      "source": [
        "# DATA SOURCE"
      ],
      "metadata": {
        "id": "A1-H3zH3kBDw"
      }
    },
    {
      "cell_type": "markdown",
      "source": [
        "The data is provided by a goverment social institution of Family and children protection in Indonesia, Dinas Pemberdayaan Perempuan Perlindungan Anak dan Keluarga Berencana, in province West Java.  "
      ],
      "metadata": {
        "id": "1U-WkDJPl1Q_"
      }
    },
    {
      "cell_type": "markdown",
      "source": [
        "###1. Dataframe Family violence towards female :\n",
        "\n",
        "source :  \n",
        "https://opendata.jabarprov.go.id/id/dataset/jumlah-korban-kekerasan-terhadap-anak-perempuan-berdasarkan-kelompok-usia-dan-kabupatenkota-di-jawa-barat\n",
        "\n",
        "BigQuery :  \n",
        "hacktiv8-tama.kekerasan_pada_lakilaki_perempuan"
      ],
      "metadata": {
        "id": "k2HC7PuSqh6g"
      }
    },
    {
      "cell_type": "code",
      "source": [
        "fam_violence_female = client.query('''\n",
        "  select *\n",
        "  from `hacktiv8-tama.kekerasan_pada_lakilaki_perempuan.perempuan`\n",
        "  order by tahun, id asc''').to_dataframe()\n",
        "fam_violence_female.head()"
      ],
      "metadata": {
        "id": "6nkCTefJqvAM",
        "colab": {
          "base_uri": "https://localhost:8080/",
          "height": 206
        },
        "outputId": "6a409378-c7a0-4f91-c344-e945e2ec206a"
      },
      "execution_count": 48,
      "outputs": [
        {
          "output_type": "execute_result",
          "data": {
            "text/plain": [
              "   id  kode_provinsi nama_provinsi  kode_kabupaten_kota nama_kabupaten_kota  \\\n",
              "0   1             32    JAWA BARAT                 3201     KABUPATEN BOGOR   \n",
              "1   2             32    JAWA BARAT                 3201     KABUPATEN BOGOR   \n",
              "2   3             32    JAWA BARAT                 3201     KABUPATEN BOGOR   \n",
              "3   4             32    JAWA BARAT                 3201     KABUPATEN BOGOR   \n",
              "4   5             32    JAWA BARAT                 3201     KABUPATEN BOGOR   \n",
              "\n",
              "  kelompok_usia  jumlah_korban  tahun  \n",
              "0     0-5 TAHUN              0   2017  \n",
              "1    6-12 TAHUN              0   2017  \n",
              "2   13-17 TAHUN              0   2017  \n",
              "3   18-24 TAHUN              1   2017  \n",
              "4   25-44 TAHUN              1   2017  "
            ],
            "text/html": [
              "\n",
              "  <div id=\"df-c9deefe7-72c0-4e5b-a104-cdb65cde1920\">\n",
              "    <div class=\"colab-df-container\">\n",
              "      <div>\n",
              "<style scoped>\n",
              "    .dataframe tbody tr th:only-of-type {\n",
              "        vertical-align: middle;\n",
              "    }\n",
              "\n",
              "    .dataframe tbody tr th {\n",
              "        vertical-align: top;\n",
              "    }\n",
              "\n",
              "    .dataframe thead th {\n",
              "        text-align: right;\n",
              "    }\n",
              "</style>\n",
              "<table border=\"1\" class=\"dataframe\">\n",
              "  <thead>\n",
              "    <tr style=\"text-align: right;\">\n",
              "      <th></th>\n",
              "      <th>id</th>\n",
              "      <th>kode_provinsi</th>\n",
              "      <th>nama_provinsi</th>\n",
              "      <th>kode_kabupaten_kota</th>\n",
              "      <th>nama_kabupaten_kota</th>\n",
              "      <th>kelompok_usia</th>\n",
              "      <th>jumlah_korban</th>\n",
              "      <th>tahun</th>\n",
              "    </tr>\n",
              "  </thead>\n",
              "  <tbody>\n",
              "    <tr>\n",
              "      <th>0</th>\n",
              "      <td>1</td>\n",
              "      <td>32</td>\n",
              "      <td>JAWA BARAT</td>\n",
              "      <td>3201</td>\n",
              "      <td>KABUPATEN BOGOR</td>\n",
              "      <td>0-5 TAHUN</td>\n",
              "      <td>0</td>\n",
              "      <td>2017</td>\n",
              "    </tr>\n",
              "    <tr>\n",
              "      <th>1</th>\n",
              "      <td>2</td>\n",
              "      <td>32</td>\n",
              "      <td>JAWA BARAT</td>\n",
              "      <td>3201</td>\n",
              "      <td>KABUPATEN BOGOR</td>\n",
              "      <td>6-12 TAHUN</td>\n",
              "      <td>0</td>\n",
              "      <td>2017</td>\n",
              "    </tr>\n",
              "    <tr>\n",
              "      <th>2</th>\n",
              "      <td>3</td>\n",
              "      <td>32</td>\n",
              "      <td>JAWA BARAT</td>\n",
              "      <td>3201</td>\n",
              "      <td>KABUPATEN BOGOR</td>\n",
              "      <td>13-17 TAHUN</td>\n",
              "      <td>0</td>\n",
              "      <td>2017</td>\n",
              "    </tr>\n",
              "    <tr>\n",
              "      <th>3</th>\n",
              "      <td>4</td>\n",
              "      <td>32</td>\n",
              "      <td>JAWA BARAT</td>\n",
              "      <td>3201</td>\n",
              "      <td>KABUPATEN BOGOR</td>\n",
              "      <td>18-24 TAHUN</td>\n",
              "      <td>1</td>\n",
              "      <td>2017</td>\n",
              "    </tr>\n",
              "    <tr>\n",
              "      <th>4</th>\n",
              "      <td>5</td>\n",
              "      <td>32</td>\n",
              "      <td>JAWA BARAT</td>\n",
              "      <td>3201</td>\n",
              "      <td>KABUPATEN BOGOR</td>\n",
              "      <td>25-44 TAHUN</td>\n",
              "      <td>1</td>\n",
              "      <td>2017</td>\n",
              "    </tr>\n",
              "  </tbody>\n",
              "</table>\n",
              "</div>\n",
              "      <button class=\"colab-df-convert\" onclick=\"convertToInteractive('df-c9deefe7-72c0-4e5b-a104-cdb65cde1920')\"\n",
              "              title=\"Convert this dataframe to an interactive table.\"\n",
              "              style=\"display:none;\">\n",
              "        \n",
              "  <svg xmlns=\"http://www.w3.org/2000/svg\" height=\"24px\"viewBox=\"0 0 24 24\"\n",
              "       width=\"24px\">\n",
              "    <path d=\"M0 0h24v24H0V0z\" fill=\"none\"/>\n",
              "    <path d=\"M18.56 5.44l.94 2.06.94-2.06 2.06-.94-2.06-.94-.94-2.06-.94 2.06-2.06.94zm-11 1L8.5 8.5l.94-2.06 2.06-.94-2.06-.94L8.5 2.5l-.94 2.06-2.06.94zm10 10l.94 2.06.94-2.06 2.06-.94-2.06-.94-.94-2.06-.94 2.06-2.06.94z\"/><path d=\"M17.41 7.96l-1.37-1.37c-.4-.4-.92-.59-1.43-.59-.52 0-1.04.2-1.43.59L10.3 9.45l-7.72 7.72c-.78.78-.78 2.05 0 2.83L4 21.41c.39.39.9.59 1.41.59.51 0 1.02-.2 1.41-.59l7.78-7.78 2.81-2.81c.8-.78.8-2.07 0-2.86zM5.41 20L4 18.59l7.72-7.72 1.47 1.35L5.41 20z\"/>\n",
              "  </svg>\n",
              "      </button>\n",
              "      \n",
              "  <style>\n",
              "    .colab-df-container {\n",
              "      display:flex;\n",
              "      flex-wrap:wrap;\n",
              "      gap: 12px;\n",
              "    }\n",
              "\n",
              "    .colab-df-convert {\n",
              "      background-color: #E8F0FE;\n",
              "      border: none;\n",
              "      border-radius: 50%;\n",
              "      cursor: pointer;\n",
              "      display: none;\n",
              "      fill: #1967D2;\n",
              "      height: 32px;\n",
              "      padding: 0 0 0 0;\n",
              "      width: 32px;\n",
              "    }\n",
              "\n",
              "    .colab-df-convert:hover {\n",
              "      background-color: #E2EBFA;\n",
              "      box-shadow: 0px 1px 2px rgba(60, 64, 67, 0.3), 0px 1px 3px 1px rgba(60, 64, 67, 0.15);\n",
              "      fill: #174EA6;\n",
              "    }\n",
              "\n",
              "    [theme=dark] .colab-df-convert {\n",
              "      background-color: #3B4455;\n",
              "      fill: #D2E3FC;\n",
              "    }\n",
              "\n",
              "    [theme=dark] .colab-df-convert:hover {\n",
              "      background-color: #434B5C;\n",
              "      box-shadow: 0px 1px 3px 1px rgba(0, 0, 0, 0.15);\n",
              "      filter: drop-shadow(0px 1px 2px rgba(0, 0, 0, 0.3));\n",
              "      fill: #FFFFFF;\n",
              "    }\n",
              "  </style>\n",
              "\n",
              "      <script>\n",
              "        const buttonEl =\n",
              "          document.querySelector('#df-c9deefe7-72c0-4e5b-a104-cdb65cde1920 button.colab-df-convert');\n",
              "        buttonEl.style.display =\n",
              "          google.colab.kernel.accessAllowed ? 'block' : 'none';\n",
              "\n",
              "        async function convertToInteractive(key) {\n",
              "          const element = document.querySelector('#df-c9deefe7-72c0-4e5b-a104-cdb65cde1920');\n",
              "          const dataTable =\n",
              "            await google.colab.kernel.invokeFunction('convertToInteractive',\n",
              "                                                     [key], {});\n",
              "          if (!dataTable) return;\n",
              "\n",
              "          const docLinkHtml = 'Like what you see? Visit the ' +\n",
              "            '<a target=\"_blank\" href=https://colab.research.google.com/notebooks/data_table.ipynb>data table notebook</a>'\n",
              "            + ' to learn more about interactive tables.';\n",
              "          element.innerHTML = '';\n",
              "          dataTable['output_type'] = 'display_data';\n",
              "          await google.colab.output.renderOutput(dataTable, element);\n",
              "          const docLink = document.createElement('div');\n",
              "          docLink.innerHTML = docLinkHtml;\n",
              "          element.appendChild(docLink);\n",
              "        }\n",
              "      </script>\n",
              "    </div>\n",
              "  </div>\n",
              "  "
            ]
          },
          "metadata": {},
          "execution_count": 48
        }
      ]
    },
    {
      "cell_type": "markdown",
      "source": [
        "###2. Dataframe Family violence towards male\n",
        "\n",
        "source :  \n",
        "https://opendata.jabarprov.go.id/id/dataset/jumlah-korban-kekerasan-terhadap-anak-laki-laki-berdasarkan-kelompok-usia-dan-kabupatenkota-di-jawa-barat\n",
        "\n",
        "BigQuery :  \n",
        "hacktiv8-tama.kekerasan_pada_lakilaki_lakilaki"
      ],
      "metadata": {
        "id": "5WWupXZXrolS"
      }
    },
    {
      "cell_type": "code",
      "source": [
        "fam_violence_male = client.query('''\n",
        "  select *\n",
        "  from `hacktiv8-tama.kekerasan_pada_lakilaki_perempuan.lakilaki`\n",
        "  order by id, tahun''').to_dataframe()\n",
        "fam_violence_male.head()"
      ],
      "metadata": {
        "id": "ApaQtO9trtRq",
        "colab": {
          "base_uri": "https://localhost:8080/",
          "height": 206
        },
        "outputId": "56709283-1bff-4f62-aed2-408a4ffa451e"
      },
      "execution_count": 49,
      "outputs": [
        {
          "output_type": "execute_result",
          "data": {
            "text/plain": [
              "   id  kode_provinsi nama_provinsi  kode_kabupaten_kota nama_kabupaten_kota  \\\n",
              "0   1             32    JAWA BARAT                 3201     KABUPATEN BOGOR   \n",
              "1   2             32    JAWA BARAT                 3201     KABUPATEN BOGOR   \n",
              "2   3             32    JAWA BARAT                 3201     KABUPATEN BOGOR   \n",
              "3   4             32    JAWA BARAT                 3201     KABUPATEN BOGOR   \n",
              "4   5             32    JAWA BARAT                 3201     KABUPATEN BOGOR   \n",
              "\n",
              "  kelompok_usia  jumlah_korban  tahun  \n",
              "0     0-5 TAHUN              0   2017  \n",
              "1    6-12 TAHUN              1   2017  \n",
              "2   13-17 TAHUN              0   2017  \n",
              "3   18-24 TAHUN              0   2017  \n",
              "4   25-44 TAHUN              0   2017  "
            ],
            "text/html": [
              "\n",
              "  <div id=\"df-82c6ea10-1ba3-4676-9e19-8467aef5cd68\">\n",
              "    <div class=\"colab-df-container\">\n",
              "      <div>\n",
              "<style scoped>\n",
              "    .dataframe tbody tr th:only-of-type {\n",
              "        vertical-align: middle;\n",
              "    }\n",
              "\n",
              "    .dataframe tbody tr th {\n",
              "        vertical-align: top;\n",
              "    }\n",
              "\n",
              "    .dataframe thead th {\n",
              "        text-align: right;\n",
              "    }\n",
              "</style>\n",
              "<table border=\"1\" class=\"dataframe\">\n",
              "  <thead>\n",
              "    <tr style=\"text-align: right;\">\n",
              "      <th></th>\n",
              "      <th>id</th>\n",
              "      <th>kode_provinsi</th>\n",
              "      <th>nama_provinsi</th>\n",
              "      <th>kode_kabupaten_kota</th>\n",
              "      <th>nama_kabupaten_kota</th>\n",
              "      <th>kelompok_usia</th>\n",
              "      <th>jumlah_korban</th>\n",
              "      <th>tahun</th>\n",
              "    </tr>\n",
              "  </thead>\n",
              "  <tbody>\n",
              "    <tr>\n",
              "      <th>0</th>\n",
              "      <td>1</td>\n",
              "      <td>32</td>\n",
              "      <td>JAWA BARAT</td>\n",
              "      <td>3201</td>\n",
              "      <td>KABUPATEN BOGOR</td>\n",
              "      <td>0-5 TAHUN</td>\n",
              "      <td>0</td>\n",
              "      <td>2017</td>\n",
              "    </tr>\n",
              "    <tr>\n",
              "      <th>1</th>\n",
              "      <td>2</td>\n",
              "      <td>32</td>\n",
              "      <td>JAWA BARAT</td>\n",
              "      <td>3201</td>\n",
              "      <td>KABUPATEN BOGOR</td>\n",
              "      <td>6-12 TAHUN</td>\n",
              "      <td>1</td>\n",
              "      <td>2017</td>\n",
              "    </tr>\n",
              "    <tr>\n",
              "      <th>2</th>\n",
              "      <td>3</td>\n",
              "      <td>32</td>\n",
              "      <td>JAWA BARAT</td>\n",
              "      <td>3201</td>\n",
              "      <td>KABUPATEN BOGOR</td>\n",
              "      <td>13-17 TAHUN</td>\n",
              "      <td>0</td>\n",
              "      <td>2017</td>\n",
              "    </tr>\n",
              "    <tr>\n",
              "      <th>3</th>\n",
              "      <td>4</td>\n",
              "      <td>32</td>\n",
              "      <td>JAWA BARAT</td>\n",
              "      <td>3201</td>\n",
              "      <td>KABUPATEN BOGOR</td>\n",
              "      <td>18-24 TAHUN</td>\n",
              "      <td>0</td>\n",
              "      <td>2017</td>\n",
              "    </tr>\n",
              "    <tr>\n",
              "      <th>4</th>\n",
              "      <td>5</td>\n",
              "      <td>32</td>\n",
              "      <td>JAWA BARAT</td>\n",
              "      <td>3201</td>\n",
              "      <td>KABUPATEN BOGOR</td>\n",
              "      <td>25-44 TAHUN</td>\n",
              "      <td>0</td>\n",
              "      <td>2017</td>\n",
              "    </tr>\n",
              "  </tbody>\n",
              "</table>\n",
              "</div>\n",
              "      <button class=\"colab-df-convert\" onclick=\"convertToInteractive('df-82c6ea10-1ba3-4676-9e19-8467aef5cd68')\"\n",
              "              title=\"Convert this dataframe to an interactive table.\"\n",
              "              style=\"display:none;\">\n",
              "        \n",
              "  <svg xmlns=\"http://www.w3.org/2000/svg\" height=\"24px\"viewBox=\"0 0 24 24\"\n",
              "       width=\"24px\">\n",
              "    <path d=\"M0 0h24v24H0V0z\" fill=\"none\"/>\n",
              "    <path d=\"M18.56 5.44l.94 2.06.94-2.06 2.06-.94-2.06-.94-.94-2.06-.94 2.06-2.06.94zm-11 1L8.5 8.5l.94-2.06 2.06-.94-2.06-.94L8.5 2.5l-.94 2.06-2.06.94zm10 10l.94 2.06.94-2.06 2.06-.94-2.06-.94-.94-2.06-.94 2.06-2.06.94z\"/><path d=\"M17.41 7.96l-1.37-1.37c-.4-.4-.92-.59-1.43-.59-.52 0-1.04.2-1.43.59L10.3 9.45l-7.72 7.72c-.78.78-.78 2.05 0 2.83L4 21.41c.39.39.9.59 1.41.59.51 0 1.02-.2 1.41-.59l7.78-7.78 2.81-2.81c.8-.78.8-2.07 0-2.86zM5.41 20L4 18.59l7.72-7.72 1.47 1.35L5.41 20z\"/>\n",
              "  </svg>\n",
              "      </button>\n",
              "      \n",
              "  <style>\n",
              "    .colab-df-container {\n",
              "      display:flex;\n",
              "      flex-wrap:wrap;\n",
              "      gap: 12px;\n",
              "    }\n",
              "\n",
              "    .colab-df-convert {\n",
              "      background-color: #E8F0FE;\n",
              "      border: none;\n",
              "      border-radius: 50%;\n",
              "      cursor: pointer;\n",
              "      display: none;\n",
              "      fill: #1967D2;\n",
              "      height: 32px;\n",
              "      padding: 0 0 0 0;\n",
              "      width: 32px;\n",
              "    }\n",
              "\n",
              "    .colab-df-convert:hover {\n",
              "      background-color: #E2EBFA;\n",
              "      box-shadow: 0px 1px 2px rgba(60, 64, 67, 0.3), 0px 1px 3px 1px rgba(60, 64, 67, 0.15);\n",
              "      fill: #174EA6;\n",
              "    }\n",
              "\n",
              "    [theme=dark] .colab-df-convert {\n",
              "      background-color: #3B4455;\n",
              "      fill: #D2E3FC;\n",
              "    }\n",
              "\n",
              "    [theme=dark] .colab-df-convert:hover {\n",
              "      background-color: #434B5C;\n",
              "      box-shadow: 0px 1px 3px 1px rgba(0, 0, 0, 0.15);\n",
              "      filter: drop-shadow(0px 1px 2px rgba(0, 0, 0, 0.3));\n",
              "      fill: #FFFFFF;\n",
              "    }\n",
              "  </style>\n",
              "\n",
              "      <script>\n",
              "        const buttonEl =\n",
              "          document.querySelector('#df-82c6ea10-1ba3-4676-9e19-8467aef5cd68 button.colab-df-convert');\n",
              "        buttonEl.style.display =\n",
              "          google.colab.kernel.accessAllowed ? 'block' : 'none';\n",
              "\n",
              "        async function convertToInteractive(key) {\n",
              "          const element = document.querySelector('#df-82c6ea10-1ba3-4676-9e19-8467aef5cd68');\n",
              "          const dataTable =\n",
              "            await google.colab.kernel.invokeFunction('convertToInteractive',\n",
              "                                                     [key], {});\n",
              "          if (!dataTable) return;\n",
              "\n",
              "          const docLinkHtml = 'Like what you see? Visit the ' +\n",
              "            '<a target=\"_blank\" href=https://colab.research.google.com/notebooks/data_table.ipynb>data table notebook</a>'\n",
              "            + ' to learn more about interactive tables.';\n",
              "          element.innerHTML = '';\n",
              "          dataTable['output_type'] = 'display_data';\n",
              "          await google.colab.output.renderOutput(dataTable, element);\n",
              "          const docLink = document.createElement('div');\n",
              "          docLink.innerHTML = docLinkHtml;\n",
              "          element.appendChild(docLink);\n",
              "        }\n",
              "      </script>\n",
              "    </div>\n",
              "  </div>\n",
              "  "
            ]
          },
          "metadata": {},
          "execution_count": 49
        }
      ]
    },
    {
      "cell_type": "markdown",
      "source": [
        "# DATA CLEANING"
      ],
      "metadata": {
        "id": "ltJFe40BEymh"
      }
    },
    {
      "cell_type": "markdown",
      "source": [
        "Before we go to deep analysis, the data from the source has to be checked to prevent error in code such missing value or type data of the column."
      ],
      "metadata": {
        "id": "GrBwo64ME1rh"
      }
    },
    {
      "cell_type": "code",
      "source": [
        "# first dataframe\n",
        "print('MALE :')\n",
        "print(fam_violence_male.isnull().sum(), '\\n')\n",
        "\n",
        "# second dataframe\n",
        "print('FEMALE :')\n",
        "print(fam_violence_female.isnull().sum())"
      ],
      "metadata": {
        "id": "bSWiKgEuFSq8",
        "colab": {
          "base_uri": "https://localhost:8080/"
        },
        "outputId": "d073c64c-9ca6-4dac-a893-2662afd21e26"
      },
      "execution_count": 50,
      "outputs": [
        {
          "output_type": "stream",
          "name": "stdout",
          "text": [
            "MALE :\n",
            "id                     0\n",
            "kode_provinsi          0\n",
            "nama_provinsi          0\n",
            "kode_kabupaten_kota    0\n",
            "nama_kabupaten_kota    0\n",
            "kelompok_usia          0\n",
            "jumlah_korban          0\n",
            "tahun                  0\n",
            "dtype: int64 \n",
            "\n",
            "FEMALE :\n",
            "id                     0\n",
            "kode_provinsi          0\n",
            "nama_provinsi          0\n",
            "kode_kabupaten_kota    0\n",
            "nama_kabupaten_kota    0\n",
            "kelompok_usia          0\n",
            "jumlah_korban          0\n",
            "tahun                  0\n",
            "dtype: int64\n"
          ]
        }
      ]
    },
    {
      "cell_type": "markdown",
      "source": [
        "The data has been checked and there is no missing value. Now let's go to the analysis."
      ],
      "metadata": {
        "id": "rOCjUFobF-qB"
      }
    },
    {
      "cell_type": "markdown",
      "source": [
        "# ANALYSIS POINT"
      ],
      "metadata": {
        "id": "2ji1oqfTvzin"
      }
    },
    {
      "cell_type": "markdown",
      "source": [
        "###1. What city is the highest number of family violence towards male?"
      ],
      "metadata": {
        "id": "ILnOR7MZv2SL"
      }
    },
    {
      "cell_type": "markdown",
      "source": [
        "From the original dataframe above, it's better if we summarize the table into separate column based on the age of victim :"
      ],
      "metadata": {
        "id": "GJ9qH2Yy2VOr"
      }
    },
    {
      "cell_type": "code",
      "source": [
        "fam_violence_male1 = client.query('''\n",
        "select *\n",
        "from\n",
        "  (select\n",
        "    distinct nama_kabupaten_kota as kabupaten,\n",
        "    _0_5._0_5,\n",
        "    _6_12._6_12,\n",
        "    _13_17._13_17,\n",
        "    _18_24._18_24,\n",
        "    _25_44._25_44,\n",
        "    _45_59._45_59,\n",
        "    _60_plus._60_plus,\n",
        "    total_per_kabupaten.total_per_kabupaten\n",
        "  from `hacktiv8-tama.kekerasan_pada_lakilaki_perempuan.lakilaki` as awal\n",
        "  join #0_5\n",
        "    (select\n",
        "      distinct nama_kabupaten_kota as kota,\n",
        "      sum(jumlah_korban) as _0_5\n",
        "    from `hacktiv8-tama.kekerasan_pada_lakilaki_perempuan.lakilaki`\n",
        "    where kelompok_usia=\"0-5 TAHUN\"\n",
        "    group by kota) as _0_5\n",
        "      on awal.nama_kabupaten_kota = _0_5.kota\n",
        "  join #6_12\n",
        "    (select\n",
        "      distinct nama_kabupaten_kota as kota,\n",
        "      sum(jumlah_korban) as _6_12\n",
        "    from `hacktiv8-tama.kekerasan_pada_lakilaki_perempuan.lakilaki`\n",
        "    where kelompok_usia=\"6-12 TAHUN\"\n",
        "    group by nama_kabupaten_kota) as _6_12\n",
        "      on awal.nama_kabupaten_kota = _6_12.kota\n",
        "  join #13_17\n",
        "    (select\n",
        "      distinct nama_kabupaten_kota as kota,\n",
        "      sum(jumlah_korban) as _13_17\n",
        "    from `hacktiv8-tama.kekerasan_pada_lakilaki_perempuan.lakilaki`\n",
        "    where kelompok_usia=\"13-17 TAHUN\"\n",
        "    group by nama_kabupaten_kota) as _13_17\n",
        "      on awal.nama_kabupaten_kota = _13_17.kota\n",
        "  join #18_24\n",
        "    (select\n",
        "      distinct nama_kabupaten_kota as kota,\n",
        "      sum(jumlah_korban) as _18_24\n",
        "    from `hacktiv8-tama.kekerasan_pada_lakilaki_perempuan.lakilaki`\n",
        "    where kelompok_usia=\"18-24 TAHUN\"\n",
        "    group by nama_kabupaten_kota) as _18_24\n",
        "    on awal.nama_kabupaten_kota = _18_24.kota\n",
        "  join #25_44\n",
        "    (select\n",
        "      distinct nama_kabupaten_kota as kota,\n",
        "      sum(jumlah_korban) as _25_44\n",
        "    from `hacktiv8-tama.kekerasan_pada_lakilaki_perempuan.lakilaki`\n",
        "    where kelompok_usia=\"25-44 TAHUN\"\n",
        "    group by nama_kabupaten_kota) as _25_44\n",
        "      on awal.nama_kabupaten_kota = _25_44.kota\n",
        "  join #45_59\n",
        "    (select\n",
        "      distinct nama_kabupaten_kota as kota,\n",
        "      sum(jumlah_korban) as _45_59\n",
        "    from `hacktiv8-tama.kekerasan_pada_lakilaki_perempuan.lakilaki`\n",
        "    where kelompok_usia=\"45-59 TAHUN\"\n",
        "    group by nama_kabupaten_kota) as _45_59\n",
        "      on awal.nama_kabupaten_kota = _45_59.kota\n",
        "  join #60+\n",
        "    (select\n",
        "      distinct nama_kabupaten_kota as kota,\n",
        "      sum(jumlah_korban) as _60_plus\n",
        "    from `hacktiv8-tama.kekerasan_pada_lakilaki_perempuan.lakilaki`\n",
        "    where kelompok_usia=\"60+ TAHUN\"\n",
        "    group by nama_kabupaten_kota) as _60_plus\n",
        "      on awal.nama_kabupaten_kota = _60_plus.kota\n",
        "  join #total_per_kabupaten\n",
        "    (select\n",
        "      distinct nama_kabupaten_kota as kota,\n",
        "      sum(jumlah_korban) as total_per_kabupaten\n",
        "      from `hacktiv8-tama.kekerasan_pada_lakilaki_perempuan.lakilaki`\n",
        "      group by nama_kabupaten_kota) as total_per_kabupaten\n",
        "        on awal.nama_kabupaten_kota = total_per_kabupaten.kota)\n",
        "\n",
        "union all\n",
        "\n",
        "select 'GRAND TOTAL' as kabupaten,\n",
        "sum(_0_5) as _0_5,\n",
        "sum(_6_12) as _6_12,\n",
        "sum(_13_17) as _13_17,\n",
        "sum(_18_24) as _18_24,\n",
        "sum(_25_44) as _25_44,\n",
        "sum(_45_59) as _45_59,\n",
        "sum(_60_plus) as _60_plus,\n",
        "sum(total_per_kabupaten) as total_per_kabupaten\n",
        "from\n",
        "(select\n",
        "    distinct nama_kabupaten_kota as kabupaten,\n",
        "    _0_5._0_5,\n",
        "    _6_12._6_12,\n",
        "    _13_17._13_17,\n",
        "    _18_24._18_24,\n",
        "    _25_44._25_44,\n",
        "    _45_59._45_59,\n",
        "    _60_plus._60_plus,\n",
        "    total_per_kabupaten.total_per_kabupaten\n",
        "  from `hacktiv8-tama.kekerasan_pada_lakilaki_perempuan.lakilaki` as awal\n",
        "  join #0_5\n",
        "    (select\n",
        "      distinct nama_kabupaten_kota as kota,\n",
        "      sum(jumlah_korban) as _0_5\n",
        "    from `hacktiv8-tama.kekerasan_pada_lakilaki_perempuan.lakilaki`\n",
        "    where kelompok_usia=\"0-5 TAHUN\"\n",
        "    group by kota) as _0_5\n",
        "      on awal.nama_kabupaten_kota = _0_5.kota\n",
        "  join #6_12\n",
        "    (select\n",
        "      distinct nama_kabupaten_kota as kota,\n",
        "      sum(jumlah_korban) as _6_12\n",
        "    from `hacktiv8-tama.kekerasan_pada_lakilaki_perempuan.lakilaki`\n",
        "    where kelompok_usia=\"6-12 TAHUN\"\n",
        "    group by nama_kabupaten_kota) as _6_12\n",
        "      on awal.nama_kabupaten_kota = _6_12.kota\n",
        "  join #13_17\n",
        "    (select\n",
        "      distinct nama_kabupaten_kota as kota,\n",
        "      sum(jumlah_korban) as _13_17\n",
        "    from `hacktiv8-tama.kekerasan_pada_lakilaki_perempuan.lakilaki`\n",
        "    where kelompok_usia=\"13-17 TAHUN\"\n",
        "    group by nama_kabupaten_kota) as _13_17\n",
        "      on awal.nama_kabupaten_kota = _13_17.kota\n",
        "  join #18_24\n",
        "    (select\n",
        "      distinct nama_kabupaten_kota as kota,\n",
        "      sum(jumlah_korban) as _18_24\n",
        "    from `hacktiv8-tama.kekerasan_pada_lakilaki_perempuan.lakilaki`\n",
        "    where kelompok_usia=\"18-24 TAHUN\"\n",
        "    group by nama_kabupaten_kota) as _18_24\n",
        "    on awal.nama_kabupaten_kota = _18_24.kota\n",
        "  join #25_44\n",
        "    (select\n",
        "      distinct nama_kabupaten_kota as kota,\n",
        "      sum(jumlah_korban) as _25_44\n",
        "    from `hacktiv8-tama.kekerasan_pada_lakilaki_perempuan.lakilaki`\n",
        "    where kelompok_usia=\"25-44 TAHUN\"\n",
        "    group by nama_kabupaten_kota) as _25_44\n",
        "      on awal.nama_kabupaten_kota = _25_44.kota\n",
        "  join #45_59\n",
        "    (select\n",
        "      distinct nama_kabupaten_kota as kota,\n",
        "      sum(jumlah_korban) as _45_59\n",
        "    from `hacktiv8-tama.kekerasan_pada_lakilaki_perempuan.lakilaki`\n",
        "    where kelompok_usia=\"45-59 TAHUN\"\n",
        "    group by nama_kabupaten_kota) as _45_59\n",
        "      on awal.nama_kabupaten_kota = _45_59.kota\n",
        "  join #60+\n",
        "    (select\n",
        "      distinct nama_kabupaten_kota as kota,\n",
        "      sum(jumlah_korban) as _60_plus\n",
        "    from `hacktiv8-tama.kekerasan_pada_lakilaki_perempuan.lakilaki`\n",
        "    where kelompok_usia=\"60+ TAHUN\"\n",
        "    group by nama_kabupaten_kota) as _60_plus\n",
        "      on awal.nama_kabupaten_kota = _60_plus.kota\n",
        "  join #total_per_kabupaten\n",
        "    (select\n",
        "      distinct nama_kabupaten_kota as kota,\n",
        "      sum(jumlah_korban) as total_per_kabupaten\n",
        "      from `hacktiv8-tama.kekerasan_pada_lakilaki_perempuan.lakilaki`\n",
        "      group by nama_kabupaten_kota) as total_per_kabupaten\n",
        "        on awal.nama_kabupaten_kota = total_per_kabupaten.kota)\n",
        "order by total_per_kabupaten asc\n",
        "''').to_dataframe().reset_index()\n",
        "fam_violence_male1"
      ],
      "metadata": {
        "id": "M9KM5NnbwGSt",
        "colab": {
          "base_uri": "https://localhost:8080/",
          "height": 710
        },
        "outputId": "c4cd3385-ed26-4363-8212-9d1b4dc9ef73"
      },
      "execution_count": 51,
      "outputs": [
        {
          "output_type": "execute_result",
          "data": {
            "text/plain": [
              "    index                kabupaten  _0_5  _6_12  _13_17  _18_24  _25_44  \\\n",
              "0       0        KABUPATEN CIANJUR     3      7       3       0       0   \n",
              "1       1              KOTA CIMAHI     2      7       4       0       0   \n",
              "2       2          KABUPATEN GARUT     3      5       6       0       0   \n",
              "3       3      KABUPATEN INDRAMAYU     4      8       3       0       0   \n",
              "4       4             KOTA CIREBON     1     11       3       0       0   \n",
              "5       5         KOTA TASIKMALAYA     1      8       6       0       0   \n",
              "6       6              KOTA BANJAR     0      2      13       0       0   \n",
              "7       7          KABUPATEN BOGOR     5      7       5       0       0   \n",
              "8       8         KABUPATEN CIAMIS     2      7       9       0       0   \n",
              "9       9       KABUPATEN KUNINGAN     1      4      13       0       0   \n",
              "10     10     KABUPATEN MAJALENGKA     3      7       8       0       0   \n",
              "11     11       KABUPATEN SUMEDANG     4      5       9       0       0   \n",
              "12     12     KABUPATEN PURWAKARTA     1      9       8       0       0   \n",
              "13     13  KABUPATEN BANDUNG BARAT     4      9       5       0       0   \n",
              "14     14       KABUPATEN KARAWANG     4     12       7       0       0   \n",
              "15     15         KABUPATEN SUBANG     1      8      18       0       0   \n",
              "16     16    KABUPATEN PANGANDARAN     4     27       2       0       0   \n",
              "17     17               KOTA BOGOR     4     18      12       0       0   \n",
              "18     18         KABUPATEN BEKASI     5     18      22       0       0   \n",
              "19     19            KOTA SUKABUMI     7     26      20       0       0   \n",
              "20     20    KABUPATEN TASIKMALAYA    10     27      26       0       0   \n",
              "21     21              KOTA BEKASI    17     30      20       0       0   \n",
              "22     22        KABUPATEN CIREBON    13     39      29       0       0   \n",
              "23     23               KOTA DEPOK    16     44      37       0       0   \n",
              "24     24       KABUPATEN SUKABUMI     7     40      68       0       0   \n",
              "25     25        KABUPATEN BANDUNG    15     59      60       0       0   \n",
              "26     26             KOTA BANDUNG    34    117      57       0       0   \n",
              "27     27              GRAND TOTAL   171    561     473       0       0   \n",
              "\n",
              "    _45_59  _60_plus  total_per_kabupaten  \n",
              "0        0         0                   13  \n",
              "1        0         0                   13  \n",
              "2        0         0                   14  \n",
              "3        0         0                   15  \n",
              "4        0         0                   15  \n",
              "5        0         0                   15  \n",
              "6        0         0                   15  \n",
              "7        0         0                   17  \n",
              "8        0         0                   18  \n",
              "9        0         0                   18  \n",
              "10       0         0                   18  \n",
              "11       0         0                   18  \n",
              "12       0         0                   18  \n",
              "13       0         0                   18  \n",
              "14       0         0                   23  \n",
              "15       0         0                   27  \n",
              "16       0         0                   33  \n",
              "17       0         0                   34  \n",
              "18       0         0                   45  \n",
              "19       0         0                   53  \n",
              "20       0         0                   63  \n",
              "21       0         0                   67  \n",
              "22       0         0                   81  \n",
              "23       0         0                   97  \n",
              "24       0         0                  115  \n",
              "25       0         0                  134  \n",
              "26       0         0                  208  \n",
              "27       0         0                 1205  "
            ],
            "text/html": [
              "\n",
              "  <div id=\"df-1968fe3b-5058-44bc-a61d-fccf87a83265\">\n",
              "    <div class=\"colab-df-container\">\n",
              "      <div>\n",
              "<style scoped>\n",
              "    .dataframe tbody tr th:only-of-type {\n",
              "        vertical-align: middle;\n",
              "    }\n",
              "\n",
              "    .dataframe tbody tr th {\n",
              "        vertical-align: top;\n",
              "    }\n",
              "\n",
              "    .dataframe thead th {\n",
              "        text-align: right;\n",
              "    }\n",
              "</style>\n",
              "<table border=\"1\" class=\"dataframe\">\n",
              "  <thead>\n",
              "    <tr style=\"text-align: right;\">\n",
              "      <th></th>\n",
              "      <th>index</th>\n",
              "      <th>kabupaten</th>\n",
              "      <th>_0_5</th>\n",
              "      <th>_6_12</th>\n",
              "      <th>_13_17</th>\n",
              "      <th>_18_24</th>\n",
              "      <th>_25_44</th>\n",
              "      <th>_45_59</th>\n",
              "      <th>_60_plus</th>\n",
              "      <th>total_per_kabupaten</th>\n",
              "    </tr>\n",
              "  </thead>\n",
              "  <tbody>\n",
              "    <tr>\n",
              "      <th>0</th>\n",
              "      <td>0</td>\n",
              "      <td>KABUPATEN CIANJUR</td>\n",
              "      <td>3</td>\n",
              "      <td>7</td>\n",
              "      <td>3</td>\n",
              "      <td>0</td>\n",
              "      <td>0</td>\n",
              "      <td>0</td>\n",
              "      <td>0</td>\n",
              "      <td>13</td>\n",
              "    </tr>\n",
              "    <tr>\n",
              "      <th>1</th>\n",
              "      <td>1</td>\n",
              "      <td>KOTA CIMAHI</td>\n",
              "      <td>2</td>\n",
              "      <td>7</td>\n",
              "      <td>4</td>\n",
              "      <td>0</td>\n",
              "      <td>0</td>\n",
              "      <td>0</td>\n",
              "      <td>0</td>\n",
              "      <td>13</td>\n",
              "    </tr>\n",
              "    <tr>\n",
              "      <th>2</th>\n",
              "      <td>2</td>\n",
              "      <td>KABUPATEN GARUT</td>\n",
              "      <td>3</td>\n",
              "      <td>5</td>\n",
              "      <td>6</td>\n",
              "      <td>0</td>\n",
              "      <td>0</td>\n",
              "      <td>0</td>\n",
              "      <td>0</td>\n",
              "      <td>14</td>\n",
              "    </tr>\n",
              "    <tr>\n",
              "      <th>3</th>\n",
              "      <td>3</td>\n",
              "      <td>KABUPATEN INDRAMAYU</td>\n",
              "      <td>4</td>\n",
              "      <td>8</td>\n",
              "      <td>3</td>\n",
              "      <td>0</td>\n",
              "      <td>0</td>\n",
              "      <td>0</td>\n",
              "      <td>0</td>\n",
              "      <td>15</td>\n",
              "    </tr>\n",
              "    <tr>\n",
              "      <th>4</th>\n",
              "      <td>4</td>\n",
              "      <td>KOTA CIREBON</td>\n",
              "      <td>1</td>\n",
              "      <td>11</td>\n",
              "      <td>3</td>\n",
              "      <td>0</td>\n",
              "      <td>0</td>\n",
              "      <td>0</td>\n",
              "      <td>0</td>\n",
              "      <td>15</td>\n",
              "    </tr>\n",
              "    <tr>\n",
              "      <th>5</th>\n",
              "      <td>5</td>\n",
              "      <td>KOTA TASIKMALAYA</td>\n",
              "      <td>1</td>\n",
              "      <td>8</td>\n",
              "      <td>6</td>\n",
              "      <td>0</td>\n",
              "      <td>0</td>\n",
              "      <td>0</td>\n",
              "      <td>0</td>\n",
              "      <td>15</td>\n",
              "    </tr>\n",
              "    <tr>\n",
              "      <th>6</th>\n",
              "      <td>6</td>\n",
              "      <td>KOTA BANJAR</td>\n",
              "      <td>0</td>\n",
              "      <td>2</td>\n",
              "      <td>13</td>\n",
              "      <td>0</td>\n",
              "      <td>0</td>\n",
              "      <td>0</td>\n",
              "      <td>0</td>\n",
              "      <td>15</td>\n",
              "    </tr>\n",
              "    <tr>\n",
              "      <th>7</th>\n",
              "      <td>7</td>\n",
              "      <td>KABUPATEN BOGOR</td>\n",
              "      <td>5</td>\n",
              "      <td>7</td>\n",
              "      <td>5</td>\n",
              "      <td>0</td>\n",
              "      <td>0</td>\n",
              "      <td>0</td>\n",
              "      <td>0</td>\n",
              "      <td>17</td>\n",
              "    </tr>\n",
              "    <tr>\n",
              "      <th>8</th>\n",
              "      <td>8</td>\n",
              "      <td>KABUPATEN CIAMIS</td>\n",
              "      <td>2</td>\n",
              "      <td>7</td>\n",
              "      <td>9</td>\n",
              "      <td>0</td>\n",
              "      <td>0</td>\n",
              "      <td>0</td>\n",
              "      <td>0</td>\n",
              "      <td>18</td>\n",
              "    </tr>\n",
              "    <tr>\n",
              "      <th>9</th>\n",
              "      <td>9</td>\n",
              "      <td>KABUPATEN KUNINGAN</td>\n",
              "      <td>1</td>\n",
              "      <td>4</td>\n",
              "      <td>13</td>\n",
              "      <td>0</td>\n",
              "      <td>0</td>\n",
              "      <td>0</td>\n",
              "      <td>0</td>\n",
              "      <td>18</td>\n",
              "    </tr>\n",
              "    <tr>\n",
              "      <th>10</th>\n",
              "      <td>10</td>\n",
              "      <td>KABUPATEN MAJALENGKA</td>\n",
              "      <td>3</td>\n",
              "      <td>7</td>\n",
              "      <td>8</td>\n",
              "      <td>0</td>\n",
              "      <td>0</td>\n",
              "      <td>0</td>\n",
              "      <td>0</td>\n",
              "      <td>18</td>\n",
              "    </tr>\n",
              "    <tr>\n",
              "      <th>11</th>\n",
              "      <td>11</td>\n",
              "      <td>KABUPATEN SUMEDANG</td>\n",
              "      <td>4</td>\n",
              "      <td>5</td>\n",
              "      <td>9</td>\n",
              "      <td>0</td>\n",
              "      <td>0</td>\n",
              "      <td>0</td>\n",
              "      <td>0</td>\n",
              "      <td>18</td>\n",
              "    </tr>\n",
              "    <tr>\n",
              "      <th>12</th>\n",
              "      <td>12</td>\n",
              "      <td>KABUPATEN PURWAKARTA</td>\n",
              "      <td>1</td>\n",
              "      <td>9</td>\n",
              "      <td>8</td>\n",
              "      <td>0</td>\n",
              "      <td>0</td>\n",
              "      <td>0</td>\n",
              "      <td>0</td>\n",
              "      <td>18</td>\n",
              "    </tr>\n",
              "    <tr>\n",
              "      <th>13</th>\n",
              "      <td>13</td>\n",
              "      <td>KABUPATEN BANDUNG BARAT</td>\n",
              "      <td>4</td>\n",
              "      <td>9</td>\n",
              "      <td>5</td>\n",
              "      <td>0</td>\n",
              "      <td>0</td>\n",
              "      <td>0</td>\n",
              "      <td>0</td>\n",
              "      <td>18</td>\n",
              "    </tr>\n",
              "    <tr>\n",
              "      <th>14</th>\n",
              "      <td>14</td>\n",
              "      <td>KABUPATEN KARAWANG</td>\n",
              "      <td>4</td>\n",
              "      <td>12</td>\n",
              "      <td>7</td>\n",
              "      <td>0</td>\n",
              "      <td>0</td>\n",
              "      <td>0</td>\n",
              "      <td>0</td>\n",
              "      <td>23</td>\n",
              "    </tr>\n",
              "    <tr>\n",
              "      <th>15</th>\n",
              "      <td>15</td>\n",
              "      <td>KABUPATEN SUBANG</td>\n",
              "      <td>1</td>\n",
              "      <td>8</td>\n",
              "      <td>18</td>\n",
              "      <td>0</td>\n",
              "      <td>0</td>\n",
              "      <td>0</td>\n",
              "      <td>0</td>\n",
              "      <td>27</td>\n",
              "    </tr>\n",
              "    <tr>\n",
              "      <th>16</th>\n",
              "      <td>16</td>\n",
              "      <td>KABUPATEN PANGANDARAN</td>\n",
              "      <td>4</td>\n",
              "      <td>27</td>\n",
              "      <td>2</td>\n",
              "      <td>0</td>\n",
              "      <td>0</td>\n",
              "      <td>0</td>\n",
              "      <td>0</td>\n",
              "      <td>33</td>\n",
              "    </tr>\n",
              "    <tr>\n",
              "      <th>17</th>\n",
              "      <td>17</td>\n",
              "      <td>KOTA BOGOR</td>\n",
              "      <td>4</td>\n",
              "      <td>18</td>\n",
              "      <td>12</td>\n",
              "      <td>0</td>\n",
              "      <td>0</td>\n",
              "      <td>0</td>\n",
              "      <td>0</td>\n",
              "      <td>34</td>\n",
              "    </tr>\n",
              "    <tr>\n",
              "      <th>18</th>\n",
              "      <td>18</td>\n",
              "      <td>KABUPATEN BEKASI</td>\n",
              "      <td>5</td>\n",
              "      <td>18</td>\n",
              "      <td>22</td>\n",
              "      <td>0</td>\n",
              "      <td>0</td>\n",
              "      <td>0</td>\n",
              "      <td>0</td>\n",
              "      <td>45</td>\n",
              "    </tr>\n",
              "    <tr>\n",
              "      <th>19</th>\n",
              "      <td>19</td>\n",
              "      <td>KOTA SUKABUMI</td>\n",
              "      <td>7</td>\n",
              "      <td>26</td>\n",
              "      <td>20</td>\n",
              "      <td>0</td>\n",
              "      <td>0</td>\n",
              "      <td>0</td>\n",
              "      <td>0</td>\n",
              "      <td>53</td>\n",
              "    </tr>\n",
              "    <tr>\n",
              "      <th>20</th>\n",
              "      <td>20</td>\n",
              "      <td>KABUPATEN TASIKMALAYA</td>\n",
              "      <td>10</td>\n",
              "      <td>27</td>\n",
              "      <td>26</td>\n",
              "      <td>0</td>\n",
              "      <td>0</td>\n",
              "      <td>0</td>\n",
              "      <td>0</td>\n",
              "      <td>63</td>\n",
              "    </tr>\n",
              "    <tr>\n",
              "      <th>21</th>\n",
              "      <td>21</td>\n",
              "      <td>KOTA BEKASI</td>\n",
              "      <td>17</td>\n",
              "      <td>30</td>\n",
              "      <td>20</td>\n",
              "      <td>0</td>\n",
              "      <td>0</td>\n",
              "      <td>0</td>\n",
              "      <td>0</td>\n",
              "      <td>67</td>\n",
              "    </tr>\n",
              "    <tr>\n",
              "      <th>22</th>\n",
              "      <td>22</td>\n",
              "      <td>KABUPATEN CIREBON</td>\n",
              "      <td>13</td>\n",
              "      <td>39</td>\n",
              "      <td>29</td>\n",
              "      <td>0</td>\n",
              "      <td>0</td>\n",
              "      <td>0</td>\n",
              "      <td>0</td>\n",
              "      <td>81</td>\n",
              "    </tr>\n",
              "    <tr>\n",
              "      <th>23</th>\n",
              "      <td>23</td>\n",
              "      <td>KOTA DEPOK</td>\n",
              "      <td>16</td>\n",
              "      <td>44</td>\n",
              "      <td>37</td>\n",
              "      <td>0</td>\n",
              "      <td>0</td>\n",
              "      <td>0</td>\n",
              "      <td>0</td>\n",
              "      <td>97</td>\n",
              "    </tr>\n",
              "    <tr>\n",
              "      <th>24</th>\n",
              "      <td>24</td>\n",
              "      <td>KABUPATEN SUKABUMI</td>\n",
              "      <td>7</td>\n",
              "      <td>40</td>\n",
              "      <td>68</td>\n",
              "      <td>0</td>\n",
              "      <td>0</td>\n",
              "      <td>0</td>\n",
              "      <td>0</td>\n",
              "      <td>115</td>\n",
              "    </tr>\n",
              "    <tr>\n",
              "      <th>25</th>\n",
              "      <td>25</td>\n",
              "      <td>KABUPATEN BANDUNG</td>\n",
              "      <td>15</td>\n",
              "      <td>59</td>\n",
              "      <td>60</td>\n",
              "      <td>0</td>\n",
              "      <td>0</td>\n",
              "      <td>0</td>\n",
              "      <td>0</td>\n",
              "      <td>134</td>\n",
              "    </tr>\n",
              "    <tr>\n",
              "      <th>26</th>\n",
              "      <td>26</td>\n",
              "      <td>KOTA BANDUNG</td>\n",
              "      <td>34</td>\n",
              "      <td>117</td>\n",
              "      <td>57</td>\n",
              "      <td>0</td>\n",
              "      <td>0</td>\n",
              "      <td>0</td>\n",
              "      <td>0</td>\n",
              "      <td>208</td>\n",
              "    </tr>\n",
              "    <tr>\n",
              "      <th>27</th>\n",
              "      <td>27</td>\n",
              "      <td>GRAND TOTAL</td>\n",
              "      <td>171</td>\n",
              "      <td>561</td>\n",
              "      <td>473</td>\n",
              "      <td>0</td>\n",
              "      <td>0</td>\n",
              "      <td>0</td>\n",
              "      <td>0</td>\n",
              "      <td>1205</td>\n",
              "    </tr>\n",
              "  </tbody>\n",
              "</table>\n",
              "</div>\n",
              "      <button class=\"colab-df-convert\" onclick=\"convertToInteractive('df-1968fe3b-5058-44bc-a61d-fccf87a83265')\"\n",
              "              title=\"Convert this dataframe to an interactive table.\"\n",
              "              style=\"display:none;\">\n",
              "        \n",
              "  <svg xmlns=\"http://www.w3.org/2000/svg\" height=\"24px\"viewBox=\"0 0 24 24\"\n",
              "       width=\"24px\">\n",
              "    <path d=\"M0 0h24v24H0V0z\" fill=\"none\"/>\n",
              "    <path d=\"M18.56 5.44l.94 2.06.94-2.06 2.06-.94-2.06-.94-.94-2.06-.94 2.06-2.06.94zm-11 1L8.5 8.5l.94-2.06 2.06-.94-2.06-.94L8.5 2.5l-.94 2.06-2.06.94zm10 10l.94 2.06.94-2.06 2.06-.94-2.06-.94-.94-2.06-.94 2.06-2.06.94z\"/><path d=\"M17.41 7.96l-1.37-1.37c-.4-.4-.92-.59-1.43-.59-.52 0-1.04.2-1.43.59L10.3 9.45l-7.72 7.72c-.78.78-.78 2.05 0 2.83L4 21.41c.39.39.9.59 1.41.59.51 0 1.02-.2 1.41-.59l7.78-7.78 2.81-2.81c.8-.78.8-2.07 0-2.86zM5.41 20L4 18.59l7.72-7.72 1.47 1.35L5.41 20z\"/>\n",
              "  </svg>\n",
              "      </button>\n",
              "      \n",
              "  <style>\n",
              "    .colab-df-container {\n",
              "      display:flex;\n",
              "      flex-wrap:wrap;\n",
              "      gap: 12px;\n",
              "    }\n",
              "\n",
              "    .colab-df-convert {\n",
              "      background-color: #E8F0FE;\n",
              "      border: none;\n",
              "      border-radius: 50%;\n",
              "      cursor: pointer;\n",
              "      display: none;\n",
              "      fill: #1967D2;\n",
              "      height: 32px;\n",
              "      padding: 0 0 0 0;\n",
              "      width: 32px;\n",
              "    }\n",
              "\n",
              "    .colab-df-convert:hover {\n",
              "      background-color: #E2EBFA;\n",
              "      box-shadow: 0px 1px 2px rgba(60, 64, 67, 0.3), 0px 1px 3px 1px rgba(60, 64, 67, 0.15);\n",
              "      fill: #174EA6;\n",
              "    }\n",
              "\n",
              "    [theme=dark] .colab-df-convert {\n",
              "      background-color: #3B4455;\n",
              "      fill: #D2E3FC;\n",
              "    }\n",
              "\n",
              "    [theme=dark] .colab-df-convert:hover {\n",
              "      background-color: #434B5C;\n",
              "      box-shadow: 0px 1px 3px 1px rgba(0, 0, 0, 0.15);\n",
              "      filter: drop-shadow(0px 1px 2px rgba(0, 0, 0, 0.3));\n",
              "      fill: #FFFFFF;\n",
              "    }\n",
              "  </style>\n",
              "\n",
              "      <script>\n",
              "        const buttonEl =\n",
              "          document.querySelector('#df-1968fe3b-5058-44bc-a61d-fccf87a83265 button.colab-df-convert');\n",
              "        buttonEl.style.display =\n",
              "          google.colab.kernel.accessAllowed ? 'block' : 'none';\n",
              "\n",
              "        async function convertToInteractive(key) {\n",
              "          const element = document.querySelector('#df-1968fe3b-5058-44bc-a61d-fccf87a83265');\n",
              "          const dataTable =\n",
              "            await google.colab.kernel.invokeFunction('convertToInteractive',\n",
              "                                                     [key], {});\n",
              "          if (!dataTable) return;\n",
              "\n",
              "          const docLinkHtml = 'Like what you see? Visit the ' +\n",
              "            '<a target=\"_blank\" href=https://colab.research.google.com/notebooks/data_table.ipynb>data table notebook</a>'\n",
              "            + ' to learn more about interactive tables.';\n",
              "          element.innerHTML = '';\n",
              "          dataTable['output_type'] = 'display_data';\n",
              "          await google.colab.output.renderOutput(dataTable, element);\n",
              "          const docLink = document.createElement('div');\n",
              "          docLink.innerHTML = docLinkHtml;\n",
              "          element.appendChild(docLink);\n",
              "        }\n",
              "      </script>\n",
              "    </div>\n",
              "  </div>\n",
              "  "
            ]
          },
          "metadata": {},
          "execution_count": 51
        }
      ]
    },
    {
      "cell_type": "code",
      "source": [
        "print('Male victims based on age', '\\n')\n",
        "usia = '0-5 Tahun', '6-12 Tahun', '13-17 Tahun'\n",
        "korban = [((171/1205)*100), ((561/1205)*100), ((473/1205)*100)]\n",
        "explode = (0, 0.07, 0)\n",
        "fig1, ax1 = plt.subplots(figsize=(5,5))\n",
        "ax1.pie(korban, explode=explode, labels=usia, autopct='%1.0f%%',\n",
        "        shadow=True, startangle=0,textprops={'fontsize': 18})\n",
        "ax1.axis('equal')\n",
        "plt.show()"
      ],
      "metadata": {
        "id": "NisHEtjvf_sj",
        "colab": {
          "base_uri": "https://localhost:8080/",
          "height": 341
        },
        "outputId": "923f471f-88a6-43ac-8621-f476b3de175d"
      },
      "execution_count": 52,
      "outputs": [
        {
          "output_type": "stream",
          "name": "stdout",
          "text": [
            "Male victims based on age \n",
            "\n"
          ]
        },
        {
          "output_type": "display_data",
          "data": {
            "text/plain": [
              "<Figure size 360x360 with 1 Axes>"
            ],
            "image/png": "[encoded data removed]"
          },
          "metadata": {}
        }
      ]
    },
    {
      "cell_type": "code",
      "source": [
        "sum_male = client.query('''\n",
        "select \n",
        "  distinct(nama_kabupaten_kota) as kabupaten,\n",
        "  sum(jumlah_korban) as jumlah_korban\n",
        "from `hacktiv8-tama.kekerasan_pada_lakilaki_perempuan.lakilaki`\n",
        "group by nama_kabupaten_kota\n",
        "order by jumlah_korban asc''').to_dataframe()\n",
        "\n",
        "# Bar Chart\n",
        "print('Violence toward male based on region/kabupaten')\n",
        "print(sum_male.plot(kind = 'barh', figsize = (14, 10), y = 'jumlah_korban', x = 'kabupaten'))\n"
      ],
      "metadata": {
        "id": "_EFqSQTgJr5W",
        "colab": {
          "base_uri": "https://localhost:8080/",
          "height": 623
        },
        "outputId": "f856e16a-5aaf-4ce3-ba8d-3d73ade0ade3"
      },
      "execution_count": 53,
      "outputs": [
        {
          "output_type": "stream",
          "name": "stdout",
          "text": [
            "Violence toward male based on region/kabupaten\n",
            "AxesSubplot(0.125,0.125;0.775x0.755)\n"
          ]
        },
        {
          "output_type": "display_data",
          "data": {
            "text/plain": [
              "<Figure size 1008x720 with 1 Axes>"
            ],
            "image/png": "[encoded data removed]"
          },
          "metadata": {
            "needs_background": "light"
          }
        }
      ]
    },
    {
      "cell_type": "markdown",
      "source": [
        "**Answer**  \n",
        "As the the summarized table above, there are no victim in age above 18 years. The victim are in range 0 to 17 years old. The most male victim is in range 6 to 12 years old which is pre-teen with 561 victims, meanwhile the the teenagers from 13 to 17 years old is 473 victims, and baby/toddler from 0 to 5 years old is 171 victims, during 2017 up to 2021 in West Java. The grand total of family violence victims in West Java from 2017 to 2022 is 1205 persons.  \n",
        "\n",
        "The city with first highest number of family violence is Kota Bandung, with total number of victims is 208 during 2017 to 2021. Meanwhile the second and the third highest is Kabupaten Bandung with 134 total victims and Kabupaten Sukabumi with 115 total victims."
      ],
      "metadata": {
        "id": "avrBA2LI2MH6"
      }
    },
    {
      "cell_type": "markdown",
      "source": [
        "###2. What city is the highest number of family violence towards female?"
      ],
      "metadata": {
        "id": "b-Ksx2aw0Wbu"
      }
    },
    {
      "cell_type": "code",
      "source": [
        "fam_violence_female2 = client.query('''\n",
        "select *\n",
        "from\n",
        "  (select\n",
        "    distinct nama_kabupaten_kota as kabupaten,\n",
        "    _0_5._0_5,\n",
        "    _6_12._6_12,\n",
        "    _13_17._13_17,\n",
        "    _18_24._18_24,\n",
        "    _25_44._25_44,\n",
        "    _45_59._45_59,\n",
        "    _60_plus._60_plus,\n",
        "    total_per_kabupaten.total_per_kabupaten\n",
        "  from `hacktiv8-tama.kekerasan_pada_lakilaki_perempuan.perempuan` as awal\n",
        "  join #0_5\n",
        "    (select\n",
        "      distinct nama_kabupaten_kota as kota,\n",
        "      sum(jumlah_korban) as _0_5\n",
        "    from `hacktiv8-tama.kekerasan_pada_lakilaki_perempuan.perempuan`\n",
        "    where kelompok_usia=\"0-5 TAHUN\"\n",
        "    group by kota) as _0_5\n",
        "      on awal.nama_kabupaten_kota = _0_5.kota\n",
        "  join #6_12\n",
        "    (select\n",
        "      distinct nama_kabupaten_kota as kota,\n",
        "      sum(jumlah_korban) as _6_12\n",
        "    from `hacktiv8-tama.kekerasan_pada_lakilaki_perempuan.perempuan`\n",
        "    where kelompok_usia=\"6-12 TAHUN\"\n",
        "    group by nama_kabupaten_kota) as _6_12\n",
        "      on awal.nama_kabupaten_kota = _6_12.kota\n",
        "  join #13_17\n",
        "    (select\n",
        "      distinct nama_kabupaten_kota as kota,\n",
        "      sum(jumlah_korban) as _13_17\n",
        "    from `hacktiv8-tama.kekerasan_pada_lakilaki_perempuan.perempuan`\n",
        "    where kelompok_usia=\"13-17 TAHUN\"\n",
        "    group by nama_kabupaten_kota) as _13_17\n",
        "      on awal.nama_kabupaten_kota = _13_17.kota\n",
        "  join #18_24\n",
        "    (select\n",
        "      distinct nama_kabupaten_kota as kota,\n",
        "      sum(jumlah_korban) as _18_24\n",
        "    from `hacktiv8-tama.kekerasan_pada_lakilaki_perempuan.perempuan`\n",
        "    where kelompok_usia=\"18-24 TAHUN\"\n",
        "    group by nama_kabupaten_kota) as _18_24\n",
        "    on awal.nama_kabupaten_kota = _18_24.kota\n",
        "  join #25_44\n",
        "    (select\n",
        "      distinct nama_kabupaten_kota as kota,\n",
        "      sum(jumlah_korban) as _25_44\n",
        "    from `hacktiv8-tama.kekerasan_pada_lakilaki_perempuan.perempuan`\n",
        "    where kelompok_usia=\"25-44 TAHUN\"\n",
        "    group by nama_kabupaten_kota) as _25_44\n",
        "      on awal.nama_kabupaten_kota = _25_44.kota\n",
        "  join #45_59\n",
        "    (select\n",
        "      distinct nama_kabupaten_kota as kota,\n",
        "      sum(jumlah_korban) as _45_59\n",
        "    from `hacktiv8-tama.kekerasan_pada_lakilaki_perempuan.perempuan`\n",
        "    where kelompok_usia=\"45-59 TAHUN\"\n",
        "    group by nama_kabupaten_kota) as _45_59\n",
        "      on awal.nama_kabupaten_kota = _45_59.kota\n",
        "  join #60+\n",
        "    (select\n",
        "      distinct nama_kabupaten_kota as kota,\n",
        "      sum(jumlah_korban) as _60_plus\n",
        "    from `hacktiv8-tama.kekerasan_pada_lakilaki_perempuan.perempuan`\n",
        "    where kelompok_usia=\"60+ TAHUN\"\n",
        "    group by nama_kabupaten_kota) as _60_plus\n",
        "      on awal.nama_kabupaten_kota = _60_plus.kota\n",
        "  join #total_per_kabupaten\n",
        "    (select\n",
        "      distinct nama_kabupaten_kota as kota,\n",
        "      sum(jumlah_korban) as total_per_kabupaten\n",
        "      from `hacktiv8-tama.kekerasan_pada_lakilaki_perempuan.perempuan`\n",
        "      group by nama_kabupaten_kota) as total_per_kabupaten\n",
        "        on awal.nama_kabupaten_kota = total_per_kabupaten.kota)\n",
        "\n",
        "union all\n",
        "\n",
        "select 'GRAND TOTAL' as kabupaten,\n",
        "sum(_0_5) as _0_5,\n",
        "sum(_6_12) as _6_12,\n",
        "sum(_13_17) as _13_17,\n",
        "sum(_18_24) as _18_24,\n",
        "sum(_25_44) as _25_44,\n",
        "sum(_45_59) as _45_59,\n",
        "sum(_60_plus) as _60_plus,\n",
        "sum(total_per_kabupaten) as total_per_kabupaten\n",
        "from\n",
        "(select\n",
        "    distinct nama_kabupaten_kota as kabupaten,\n",
        "    _0_5._0_5,\n",
        "    _6_12._6_12,\n",
        "    _13_17._13_17,\n",
        "    _18_24._18_24,\n",
        "    _25_44._25_44,\n",
        "    _45_59._45_59,\n",
        "    _60_plus._60_plus,\n",
        "    total_per_kabupaten.total_per_kabupaten\n",
        "  from `hacktiv8-tama.kekerasan_pada_lakilaki_perempuan.perempuan` as awal\n",
        "  join #0_5\n",
        "    (select\n",
        "      distinct nama_kabupaten_kota as kota,\n",
        "      sum(jumlah_korban) as _0_5\n",
        "    from `hacktiv8-tama.kekerasan_pada_lakilaki_perempuan.perempuan`\n",
        "    where kelompok_usia=\"0-5 TAHUN\"\n",
        "    group by kota) as _0_5\n",
        "      on awal.nama_kabupaten_kota = _0_5.kota\n",
        "  join #6_12\n",
        "    (select\n",
        "      distinct nama_kabupaten_kota as kota,\n",
        "      sum(jumlah_korban) as _6_12\n",
        "    from `hacktiv8-tama.kekerasan_pada_lakilaki_perempuan.perempuan`\n",
        "    where kelompok_usia=\"6-12 TAHUN\"\n",
        "    group by nama_kabupaten_kota) as _6_12\n",
        "      on awal.nama_kabupaten_kota = _6_12.kota\n",
        "  join #13_17\n",
        "    (select\n",
        "      distinct nama_kabupaten_kota as kota,\n",
        "      sum(jumlah_korban) as _13_17\n",
        "    from `hacktiv8-tama.kekerasan_pada_lakilaki_perempuan.perempuan`\n",
        "    where kelompok_usia=\"13-17 TAHUN\"\n",
        "    group by nama_kabupaten_kota) as _13_17\n",
        "      on awal.nama_kabupaten_kota = _13_17.kota\n",
        "  join #18_24\n",
        "    (select\n",
        "      distinct nama_kabupaten_kota as kota,\n",
        "      sum(jumlah_korban) as _18_24\n",
        "    from `hacktiv8-tama.kekerasan_pada_lakilaki_perempuan.perempuan`\n",
        "    where kelompok_usia=\"18-24 TAHUN\"\n",
        "    group by nama_kabupaten_kota) as _18_24\n",
        "    on awal.nama_kabupaten_kota = _18_24.kota\n",
        "  join #25_44\n",
        "    (select\n",
        "      distinct nama_kabupaten_kota as kota,\n",
        "      sum(jumlah_korban) as _25_44\n",
        "    from `hacktiv8-tama.kekerasan_pada_lakilaki_perempuan.perempuan`\n",
        "    where kelompok_usia=\"25-44 TAHUN\"\n",
        "    group by nama_kabupaten_kota) as _25_44\n",
        "      on awal.nama_kabupaten_kota = _25_44.kota\n",
        "  join #45_59\n",
        "    (select\n",
        "      distinct nama_kabupaten_kota as kota,\n",
        "      sum(jumlah_korban) as _45_59\n",
        "    from `hacktiv8-tama.kekerasan_pada_lakilaki_perempuan.perempuan`\n",
        "    where kelompok_usia=\"45-59 TAHUN\"\n",
        "    group by nama_kabupaten_kota) as _45_59\n",
        "      on awal.nama_kabupaten_kota = _45_59.kota\n",
        "  join #60+\n",
        "    (select\n",
        "      distinct nama_kabupaten_kota as kota,\n",
        "      sum(jumlah_korban) as _60_plus\n",
        "    from `hacktiv8-tama.kekerasan_pada_lakilaki_perempuan.perempuan`\n",
        "    where kelompok_usia=\"60+ TAHUN\"\n",
        "    group by nama_kabupaten_kota) as _60_plus\n",
        "      on awal.nama_kabupaten_kota = _60_plus.kota\n",
        "  join #total_per_kabupaten\n",
        "    (select\n",
        "      distinct nama_kabupaten_kota as kota,\n",
        "      sum(jumlah_korban) as total_per_kabupaten\n",
        "      from `hacktiv8-tama.kekerasan_pada_lakilaki_perempuan.perempuan`\n",
        "      group by nama_kabupaten_kota) as total_per_kabupaten\n",
        "        on awal.nama_kabupaten_kota = total_per_kabupaten.kota)\n",
        "  order by total_per_kabupaten\n",
        "''').to_dataframe().reset_index()\n",
        "fam_violence_female2"
      ],
      "metadata": {
        "id": "R_u1UzX70nBD",
        "colab": {
          "base_uri": "https://localhost:8080/",
          "height": 710
        },
        "outputId": "4e38c209-47c6-42d1-d91d-3cc87e059197"
      },
      "execution_count": 54,
      "outputs": [
        {
          "output_type": "execute_result",
          "data": {
            "text/plain": [
              "    index                kabupaten  _0_5  _6_12  _13_17  _18_24  _25_44  \\\n",
              "0       0        KABUPATEN CIANJUR     0      4       9       0       3   \n",
              "1       1       KABUPATEN KUNINGAN     1     10      11       9      14   \n",
              "2       2         KOTA TASIKMALAYA     4      7      19       5      15   \n",
              "3       3          KABUPATEN BOGOR     1     10      15       7      21   \n",
              "4       4          KABUPATEN GARUT     1     12      28       5      13   \n",
              "5       5              KOTA BANJAR     4     11      31       6      13   \n",
              "6       6              KOTA CIMAHI     1     20      18       6      22   \n",
              "7       7             KOTA CIREBON     4      6      19       8      33   \n",
              "8       8         KABUPATEN CIAMIS     5     10      33       9      15   \n",
              "9       9     KABUPATEN MAJALENGKA     3     14      48       7       7   \n",
              "10     10       KABUPATEN SUMEDANG     5     19      33       7      19   \n",
              "11     11       KABUPATEN KARAWANG     3     13      17      14      49   \n",
              "12     12      KABUPATEN INDRAMAYU     6     19      31      15      28   \n",
              "13     13    KABUPATEN PANGANDARAN     6     53      29       4       4   \n",
              "14     14         KABUPATEN SUBANG     3     14      39      20      25   \n",
              "15     15            KOTA SUKABUMI     5     16      37       9      33   \n",
              "16     16     KABUPATEN PURWAKARTA     9     10      28      11      41   \n",
              "17     17  KABUPATEN BANDUNG BARAT    11     19      47      12      22   \n",
              "18     18               KOTA BOGOR     5     15      22      14      48   \n",
              "19     19              KOTA BEKASI    19     56      43      18      42   \n",
              "20     20    KABUPATEN TASIKMALAYA    21     62      83      30      16   \n",
              "21     21        KABUPATEN CIREBON    14     32      64      36      75   \n",
              "22     22         KABUPATEN BEKASI    25     56     106      43     120   \n",
              "23     23               KOTA DEPOK    23     83      88      36     124   \n",
              "24     24        KABUPATEN BANDUNG    48    110     141      59      84   \n",
              "25     25       KABUPATEN SUKABUMI    28    118     167      43     136   \n",
              "26     26             KOTA BANDUNG    43    108     112      94     279   \n",
              "27     27              GRAND TOTAL   298    907    1318     527    1301   \n",
              "\n",
              "    _45_59  _60_plus  total_per_kabupaten  \n",
              "0        1         0                   17  \n",
              "1        3         0                   48  \n",
              "2        3         0                   53  \n",
              "3        7         0                   61  \n",
              "4        3         0                   62  \n",
              "5        2         0                   67  \n",
              "6        5         0                   72  \n",
              "7        5         1                   76  \n",
              "8        4         0                   76  \n",
              "9        2         0                   81  \n",
              "10      11         0                   94  \n",
              "11       6         0                  102  \n",
              "12       4         0                  103  \n",
              "13       6         1                  103  \n",
              "14       3         0                  104  \n",
              "15      11         0                  111  \n",
              "16      10         2                  111  \n",
              "17       1         0                  112  \n",
              "18      12         0                  116  \n",
              "19      18         3                  199  \n",
              "20       1         0                  213  \n",
              "21      16         3                  240  \n",
              "22      20         2                  372  \n",
              "23      26         3                  383  \n",
              "24      34         1                  477  \n",
              "25      27         1                  520  \n",
              "26      72         9                  717  \n",
              "27     313        26                 4690  "
            ],
            "text/html": [
              "\n",
              "  <div id=\"df-ff3c9f9e-d8f5-4068-8a4b-7ba0942f530f\">\n",
              "    <div class=\"colab-df-container\">\n",
              "      <div>\n",
              "<style scoped>\n",
              "    .dataframe tbody tr th:only-of-type {\n",
              "        vertical-align: middle;\n",
              "    }\n",
              "\n",
              "    .dataframe tbody tr th {\n",
              "        vertical-align: top;\n",
              "    }\n",
              "\n",
              "    .dataframe thead th {\n",
              "        text-align: right;\n",
              "    }\n",
              "</style>\n",
              "<table border=\"1\" class=\"dataframe\">\n",
              "  <thead>\n",
              "    <tr style=\"text-align: right;\">\n",
              "      <th></th>\n",
              "      <th>index</th>\n",
              "      <th>kabupaten</th>\n",
              "      <th>_0_5</th>\n",
              "      <th>_6_12</th>\n",
              "      <th>_13_17</th>\n",
              "      <th>_18_24</th>\n",
              "      <th>_25_44</th>\n",
              "      <th>_45_59</th>\n",
              "      <th>_60_plus</th>\n",
              "      <th>total_per_kabupaten</th>\n",
              "    </tr>\n",
              "  </thead>\n",
              "  <tbody>\n",
              "    <tr>\n",
              "      <th>0</th>\n",
              "      <td>0</td>\n",
              "      <td>KABUPATEN CIANJUR</td>\n",
              "      <td>0</td>\n",
              "      <td>4</td>\n",
              "      <td>9</td>\n",
              "      <td>0</td>\n",
              "      <td>3</td>\n",
              "      <td>1</td>\n",
              "      <td>0</td>\n",
              "      <td>17</td>\n",
              "    </tr>\n",
              "    <tr>\n",
              "      <th>1</th>\n",
              "      <td>1</td>\n",
              "      <td>KABUPATEN KUNINGAN</td>\n",
              "      <td>1</td>\n",
              "      <td>10</td>\n",
              "      <td>11</td>\n",
              "      <td>9</td>\n",
              "      <td>14</td>\n",
              "      <td>3</td>\n",
              "      <td>0</td>\n",
              "      <td>48</td>\n",
              "    </tr>\n",
              "    <tr>\n",
              "      <th>2</th>\n",
              "      <td>2</td>\n",
              "      <td>KOTA TASIKMALAYA</td>\n",
              "      <td>4</td>\n",
              "      <td>7</td>\n",
              "      <td>19</td>\n",
              "      <td>5</td>\n",
              "      <td>15</td>\n",
              "      <td>3</td>\n",
              "      <td>0</td>\n",
              "      <td>53</td>\n",
              "    </tr>\n",
              "    <tr>\n",
              "      <th>3</th>\n",
              "      <td>3</td>\n",
              "      <td>KABUPATEN BOGOR</td>\n",
              "      <td>1</td>\n",
              "      <td>10</td>\n",
              "      <td>15</td>\n",
              "      <td>7</td>\n",
              "      <td>21</td>\n",
              "      <td>7</td>\n",
              "      <td>0</td>\n",
              "      <td>61</td>\n",
              "    </tr>\n",
              "    <tr>\n",
              "      <th>4</th>\n",
              "      <td>4</td>\n",
              "      <td>KABUPATEN GARUT</td>\n",
              "      <td>1</td>\n",
              "      <td>12</td>\n",
              "      <td>28</td>\n",
              "      <td>5</td>\n",
              "      <td>13</td>\n",
              "      <td>3</td>\n",
              "      <td>0</td>\n",
              "      <td>62</td>\n",
              "    </tr>\n",
              "    <tr>\n",
              "      <th>5</th>\n",
              "      <td>5</td>\n",
              "      <td>KOTA BANJAR</td>\n",
              "      <td>4</td>\n",
              "      <td>11</td>\n",
              "      <td>31</td>\n",
              "      <td>6</td>\n",
              "      <td>13</td>\n",
              "      <td>2</td>\n",
              "      <td>0</td>\n",
              "      <td>67</td>\n",
              "    </tr>\n",
              "    <tr>\n",
              "      <th>6</th>\n",
              "      <td>6</td>\n",
              "      <td>KOTA CIMAHI</td>\n",
              "      <td>1</td>\n",
              "      <td>20</td>\n",
              "      <td>18</td>\n",
              "      <td>6</td>\n",
              "      <td>22</td>\n",
              "      <td>5</td>\n",
              "      <td>0</td>\n",
              "      <td>72</td>\n",
              "    </tr>\n",
              "    <tr>\n",
              "      <th>7</th>\n",
              "      <td>7</td>\n",
              "      <td>KOTA CIREBON</td>\n",
              "      <td>4</td>\n",
              "      <td>6</td>\n",
              "      <td>19</td>\n",
              "      <td>8</td>\n",
              "      <td>33</td>\n",
              "      <td>5</td>\n",
              "      <td>1</td>\n",
              "      <td>76</td>\n",
              "    </tr>\n",
              "    <tr>\n",
              "      <th>8</th>\n",
              "      <td>8</td>\n",
              "      <td>KABUPATEN CIAMIS</td>\n",
              "      <td>5</td>\n",
              "      <td>10</td>\n",
              "      <td>33</td>\n",
              "      <td>9</td>\n",
              "      <td>15</td>\n",
              "      <td>4</td>\n",
              "      <td>0</td>\n",
              "      <td>76</td>\n",
              "    </tr>\n",
              "    <tr>\n",
              "      <th>9</th>\n",
              "      <td>9</td>\n",
              "      <td>KABUPATEN MAJALENGKA</td>\n",
              "      <td>3</td>\n",
              "      <td>14</td>\n",
              "      <td>48</td>\n",
              "      <td>7</td>\n",
              "      <td>7</td>\n",
              "      <td>2</td>\n",
              "      <td>0</td>\n",
              "      <td>81</td>\n",
              "    </tr>\n",
              "    <tr>\n",
              "      <th>10</th>\n",
              "      <td>10</td>\n",
              "      <td>KABUPATEN SUMEDANG</td>\n",
              "      <td>5</td>\n",
              "      <td>19</td>\n",
              "      <td>33</td>\n",
              "      <td>7</td>\n",
              "      <td>19</td>\n",
              "      <td>11</td>\n",
              "      <td>0</td>\n",
              "      <td>94</td>\n",
              "    </tr>\n",
              "    <tr>\n",
              "      <th>11</th>\n",
              "      <td>11</td>\n",
              "      <td>KABUPATEN KARAWANG</td>\n",
              "      <td>3</td>\n",
              "      <td>13</td>\n",
              "      <td>17</td>\n",
              "      <td>14</td>\n",
              "      <td>49</td>\n",
              "      <td>6</td>\n",
              "      <td>0</td>\n",
              "      <td>102</td>\n",
              "    </tr>\n",
              "    <tr>\n",
              "      <th>12</th>\n",
              "      <td>12</td>\n",
              "      <td>KABUPATEN INDRAMAYU</td>\n",
              "      <td>6</td>\n",
              "      <td>19</td>\n",
              "      <td>31</td>\n",
              "      <td>15</td>\n",
              "      <td>28</td>\n",
              "      <td>4</td>\n",
              "      <td>0</td>\n",
              "      <td>103</td>\n",
              "    </tr>\n",
              "    <tr>\n",
              "      <th>13</th>\n",
              "      <td>13</td>\n",
              "      <td>KABUPATEN PANGANDARAN</td>\n",
              "      <td>6</td>\n",
              "      <td>53</td>\n",
              "      <td>29</td>\n",
              "      <td>4</td>\n",
              "      <td>4</td>\n",
              "      <td>6</td>\n",
              "      <td>1</td>\n",
              "      <td>103</td>\n",
              "    </tr>\n",
              "    <tr>\n",
              "      <th>14</th>\n",
              "      <td>14</td>\n",
              "      <td>KABUPATEN SUBANG</td>\n",
              "      <td>3</td>\n",
              "      <td>14</td>\n",
              "      <td>39</td>\n",
              "      <td>20</td>\n",
              "      <td>25</td>\n",
              "      <td>3</td>\n",
              "      <td>0</td>\n",
              "      <td>104</td>\n",
              "    </tr>\n",
              "    <tr>\n",
              "      <th>15</th>\n",
              "      <td>15</td>\n",
              "      <td>KOTA SUKABUMI</td>\n",
              "      <td>5</td>\n",
              "      <td>16</td>\n",
              "      <td>37</td>\n",
              "      <td>9</td>\n",
              "      <td>33</td>\n",
              "      <td>11</td>\n",
              "      <td>0</td>\n",
              "      <td>111</td>\n",
              "    </tr>\n",
              "    <tr>\n",
              "      <th>16</th>\n",
              "      <td>16</td>\n",
              "      <td>KABUPATEN PURWAKARTA</td>\n",
              "      <td>9</td>\n",
              "      <td>10</td>\n",
              "      <td>28</td>\n",
              "      <td>11</td>\n",
              "      <td>41</td>\n",
              "      <td>10</td>\n",
              "      <td>2</td>\n",
              "      <td>111</td>\n",
              "    </tr>\n",
              "    <tr>\n",
              "      <th>17</th>\n",
              "      <td>17</td>\n",
              "      <td>KABUPATEN BANDUNG BARAT</td>\n",
              "      <td>11</td>\n",
              "      <td>19</td>\n",
              "      <td>47</td>\n",
              "      <td>12</td>\n",
              "      <td>22</td>\n",
              "      <td>1</td>\n",
              "      <td>0</td>\n",
              "      <td>112</td>\n",
              "    </tr>\n",
              "    <tr>\n",
              "      <th>18</th>\n",
              "      <td>18</td>\n",
              "      <td>KOTA BOGOR</td>\n",
              "      <td>5</td>\n",
              "      <td>15</td>\n",
              "      <td>22</td>\n",
              "      <td>14</td>\n",
              "      <td>48</td>\n",
              "      <td>12</td>\n",
              "      <td>0</td>\n",
              "      <td>116</td>\n",
              "    </tr>\n",
              "    <tr>\n",
              "      <th>19</th>\n",
              "      <td>19</td>\n",
              "      <td>KOTA BEKASI</td>\n",
              "      <td>19</td>\n",
              "      <td>56</td>\n",
              "      <td>43</td>\n",
              "      <td>18</td>\n",
              "      <td>42</td>\n",
              "      <td>18</td>\n",
              "      <td>3</td>\n",
              "      <td>199</td>\n",
              "    </tr>\n",
              "    <tr>\n",
              "      <th>20</th>\n",
              "      <td>20</td>\n",
              "      <td>KABUPATEN TASIKMALAYA</td>\n",
              "      <td>21</td>\n",
              "      <td>62</td>\n",
              "      <td>83</td>\n",
              "      <td>30</td>\n",
              "      <td>16</td>\n",
              "      <td>1</td>\n",
              "      <td>0</td>\n",
              "      <td>213</td>\n",
              "    </tr>\n",
              "    <tr>\n",
              "      <th>21</th>\n",
              "      <td>21</td>\n",
              "      <td>KABUPATEN CIREBON</td>\n",
              "      <td>14</td>\n",
              "      <td>32</td>\n",
              "      <td>64</td>\n",
              "      <td>36</td>\n",
              "      <td>75</td>\n",
              "      <td>16</td>\n",
              "      <td>3</td>\n",
              "      <td>240</td>\n",
              "    </tr>\n",
              "    <tr>\n",
              "      <th>22</th>\n",
              "      <td>22</td>\n",
              "      <td>KABUPATEN BEKASI</td>\n",
              "      <td>25</td>\n",
              "      <td>56</td>\n",
              "      <td>106</td>\n",
              "      <td>43</td>\n",
              "      <td>120</td>\n",
              "      <td>20</td>\n",
              "      <td>2</td>\n",
              "      <td>372</td>\n",
              "    </tr>\n",
              "    <tr>\n",
              "      <th>23</th>\n",
              "      <td>23</td>\n",
              "      <td>KOTA DEPOK</td>\n",
              "      <td>23</td>\n",
              "      <td>83</td>\n",
              "      <td>88</td>\n",
              "      <td>36</td>\n",
              "      <td>124</td>\n",
              "      <td>26</td>\n",
              "      <td>3</td>\n",
              "      <td>383</td>\n",
              "    </tr>\n",
              "    <tr>\n",
              "      <th>24</th>\n",
              "      <td>24</td>\n",
              "      <td>KABUPATEN BANDUNG</td>\n",
              "      <td>48</td>\n",
              "      <td>110</td>\n",
              "      <td>141</td>\n",
              "      <td>59</td>\n",
              "      <td>84</td>\n",
              "      <td>34</td>\n",
              "      <td>1</td>\n",
              "      <td>477</td>\n",
              "    </tr>\n",
              "    <tr>\n",
              "      <th>25</th>\n",
              "      <td>25</td>\n",
              "      <td>KABUPATEN SUKABUMI</td>\n",
              "      <td>28</td>\n",
              "      <td>118</td>\n",
              "      <td>167</td>\n",
              "      <td>43</td>\n",
              "      <td>136</td>\n",
              "      <td>27</td>\n",
              "      <td>1</td>\n",
              "      <td>520</td>\n",
              "    </tr>\n",
              "    <tr>\n",
              "      <th>26</th>\n",
              "      <td>26</td>\n",
              "      <td>KOTA BANDUNG</td>\n",
              "      <td>43</td>\n",
              "      <td>108</td>\n",
              "      <td>112</td>\n",
              "      <td>94</td>\n",
              "      <td>279</td>\n",
              "      <td>72</td>\n",
              "      <td>9</td>\n",
              "      <td>717</td>\n",
              "    </tr>\n",
              "    <tr>\n",
              "      <th>27</th>\n",
              "      <td>27</td>\n",
              "      <td>GRAND TOTAL</td>\n",
              "      <td>298</td>\n",
              "      <td>907</td>\n",
              "      <td>1318</td>\n",
              "      <td>527</td>\n",
              "      <td>1301</td>\n",
              "      <td>313</td>\n",
              "      <td>26</td>\n",
              "      <td>4690</td>\n",
              "    </tr>\n",
              "  </tbody>\n",
              "</table>\n",
              "</div>\n",
              "      <button class=\"colab-df-convert\" onclick=\"convertToInteractive('df-ff3c9f9e-d8f5-4068-8a4b-7ba0942f530f')\"\n",
              "              title=\"Convert this dataframe to an interactive table.\"\n",
              "              style=\"display:none;\">\n",
              "        \n",
              "  <svg xmlns=\"http://www.w3.org/2000/svg\" height=\"24px\"viewBox=\"0 0 24 24\"\n",
              "       width=\"24px\">\n",
              "    <path d=\"M0 0h24v24H0V0z\" fill=\"none\"/>\n",
              "    <path d=\"M18.56 5.44l.94 2.06.94-2.06 2.06-.94-2.06-.94-.94-2.06-.94 2.06-2.06.94zm-11 1L8.5 8.5l.94-2.06 2.06-.94-2.06-.94L8.5 2.5l-.94 2.06-2.06.94zm10 10l.94 2.06.94-2.06 2.06-.94-2.06-.94-.94-2.06-.94 2.06-2.06.94z\"/><path d=\"M17.41 7.96l-1.37-1.37c-.4-.4-.92-.59-1.43-.59-.52 0-1.04.2-1.43.59L10.3 9.45l-7.72 7.72c-.78.78-.78 2.05 0 2.83L4 21.41c.39.39.9.59 1.41.59.51 0 1.02-.2 1.41-.59l7.78-7.78 2.81-2.81c.8-.78.8-2.07 0-2.86zM5.41 20L4 18.59l7.72-7.72 1.47 1.35L5.41 20z\"/>\n",
              "  </svg>\n",
              "      </button>\n",
              "      \n",
              "  <style>\n",
              "    .colab-df-container {\n",
              "      display:flex;\n",
              "      flex-wrap:wrap;\n",
              "      gap: 12px;\n",
              "    }\n",
              "\n",
              "    .colab-df-convert {\n",
              "      background-color: #E8F0FE;\n",
              "      border: none;\n",
              "      border-radius: 50%;\n",
              "      cursor: pointer;\n",
              "      display: none;\n",
              "      fill: #1967D2;\n",
              "      height: 32px;\n",
              "      padding: 0 0 0 0;\n",
              "      width: 32px;\n",
              "    }\n",
              "\n",
              "    .colab-df-convert:hover {\n",
              "      background-color: #E2EBFA;\n",
              "      box-shadow: 0px 1px 2px rgba(60, 64, 67, 0.3), 0px 1px 3px 1px rgba(60, 64, 67, 0.15);\n",
              "      fill: #174EA6;\n",
              "    }\n",
              "\n",
              "    [theme=dark] .colab-df-convert {\n",
              "      background-color: #3B4455;\n",
              "      fill: #D2E3FC;\n",
              "    }\n",
              "\n",
              "    [theme=dark] .colab-df-convert:hover {\n",
              "      background-color: #434B5C;\n",
              "      box-shadow: 0px 1px 3px 1px rgba(0, 0, 0, 0.15);\n",
              "      filter: drop-shadow(0px 1px 2px rgba(0, 0, 0, 0.3));\n",
              "      fill: #FFFFFF;\n",
              "    }\n",
              "  </style>\n",
              "\n",
              "      <script>\n",
              "        const buttonEl =\n",
              "          document.querySelector('#df-ff3c9f9e-d8f5-4068-8a4b-7ba0942f530f button.colab-df-convert');\n",
              "        buttonEl.style.display =\n",
              "          google.colab.kernel.accessAllowed ? 'block' : 'none';\n",
              "\n",
              "        async function convertToInteractive(key) {\n",
              "          const element = document.querySelector('#df-ff3c9f9e-d8f5-4068-8a4b-7ba0942f530f');\n",
              "          const dataTable =\n",
              "            await google.colab.kernel.invokeFunction('convertToInteractive',\n",
              "                                                     [key], {});\n",
              "          if (!dataTable) return;\n",
              "\n",
              "          const docLinkHtml = 'Like what you see? Visit the ' +\n",
              "            '<a target=\"_blank\" href=https://colab.research.google.com/notebooks/data_table.ipynb>data table notebook</a>'\n",
              "            + ' to learn more about interactive tables.';\n",
              "          element.innerHTML = '';\n",
              "          dataTable['output_type'] = 'display_data';\n",
              "          await google.colab.output.renderOutput(dataTable, element);\n",
              "          const docLink = document.createElement('div');\n",
              "          docLink.innerHTML = docLinkHtml;\n",
              "          element.appendChild(docLink);\n",
              "        }\n",
              "      </script>\n",
              "    </div>\n",
              "  </div>\n",
              "  "
            ]
          },
          "metadata": {},
          "execution_count": 54
        }
      ]
    },
    {
      "cell_type": "code",
      "source": [
        "# Pie chart\n",
        "print('Female victims based on age', '\\n')\n",
        "usia_f = fam_violence_female['kelompok_usia'].unique().tolist()\n",
        "korban_f = [((298/4690)*100), ((907/4690)*100), ((1318/4690)*100), ((527/4690)*100), ((1301/4690)*100), ((313/4690)*100), ((26/4690)*100)]\n",
        "explode_f = (0, 0, 0.08, 0, 0, 0, 0)\n",
        "fig1, ax1 = plt.subplots(figsize=(7,7))\n",
        "ax1.pie(korban_f, explode=explode_f, labels=usia_f, autopct='%1.0f%%',\n",
        "        shadow=True, startangle=0,textprops={'fontsize': 15})\n",
        "ax1.axis('equal')\n",
        "plt.show()"
      ],
      "metadata": {
        "id": "y-_Mm3HAqXyC",
        "colab": {
          "base_uri": "https://localhost:8080/",
          "height": 450
        },
        "outputId": "befc044b-c5a3-4176-ddd2-4cb8e05a787a"
      },
      "execution_count": 55,
      "outputs": [
        {
          "output_type": "stream",
          "name": "stdout",
          "text": [
            "Female victims based on age \n",
            "\n"
          ]
        },
        {
          "output_type": "display_data",
          "data": {
            "text/plain": [
              "<Figure size 504x504 with 1 Axes>"
            ],
            "image/png": "[encoded data removed]"
          },
          "metadata": {}
        }
      ]
    },
    {
      "cell_type": "code",
      "source": [
        "sum_female = client.query('''\n",
        "select \n",
        "  distinct(nama_kabupaten_kota) as kabupaten,\n",
        "  sum(jumlah_korban) as jumlah_korban\n",
        "from `hacktiv8-tama.kekerasan_pada_lakilaki_perempuan.perempuan`\n",
        "group by nama_kabupaten_kota\n",
        "order by jumlah_korban asc''').to_dataframe()\n",
        "\n",
        "# Bar Chart\n",
        "print('Violence toward female based on region/kabupaten')\n",
        "print(sum_female.plot(kind = 'barh', figsize = (14, 10), y = 'jumlah_korban', x = 'kabupaten'))"
      ],
      "metadata": {
        "id": "4dogbIRXtpc7",
        "colab": {
          "base_uri": "https://localhost:8080/",
          "height": 647
        },
        "outputId": "e3e1b684-38d4-4f6c-dc46-3a4a80c7f117"
      },
      "execution_count": 56,
      "outputs": [
        {
          "output_type": "stream",
          "name": "stdout",
          "text": [
            "Violence toward female based on region/kabupaten\n",
            "AxesSubplot(0.125,0.125;0.775x0.755)\n"
          ]
        },
        {
          "output_type": "display_data",
          "data": {
            "text/plain": [
              "<Figure size 1008x720 with 1 Axes>"
            ],
            "image/png": "[encoded data removed]"
          },
          "metadata": {
            "needs_background": "light"
          }
        }
      ]
    },
    {
      "cell_type": "markdown",
      "source": [
        "***Answer***  \n",
        "Compared to the male victims, it seems that female has more victim than male in family violence. The victim is in wide range from 0 to +60 years old, meanwhile the male victim is only up to 17 years old.  \n",
        "\n",
        "The first one is Kota Bandung which has 717 total female victims, meanwhile the second and the third is Kabupaten Sukabumi with 520 total female victims and Kabupaten Bandung with 477 total female victims.\n",
        "\n",
        "Moreover, we can assume also that Kota Bandung, Kabupaten Sukabumi and Kabupaten Bandung is the top 3 city with the highest number in responsible of family violince, either male or female victims.  "
      ],
      "metadata": {
        "id": "ZpNb0C2F50ES"
      }
    },
    {
      "cell_type": "markdown",
      "source": [
        "###3. What city is the lowest and the highest number of family violence towards both male and female?"
      ],
      "metadata": {
        "id": "HqtGut4z85_E"
      }
    },
    {
      "cell_type": "markdown",
      "source": [
        "We have two daframes which are separated by the gender. To make a better summarization, it's better to unite the table into a single dataframe and create a new column for gender:"
      ],
      "metadata": {
        "id": "pZYo6FXACr6z"
      }
    },
    {
      "cell_type": "code",
      "source": [
        "male_female = client.query('''\n",
        "select\n",
        "  distinct nama_kabupaten_kota as kabupaten,\n",
        "  sum(laki.jumlah_korban) as laki_laki,\n",
        "  perempuan.perempuan,\n",
        "  sum(laki.jumlah_korban) + perempuan.perempuan as total\n",
        "from `hacktiv8-tama.kekerasan_pada_lakilaki_perempuan.lakilaki` as laki\n",
        "join\n",
        "  (select\n",
        "    distinct nama_kabupaten_kota as kabupaten,\n",
        "    sum(jumlah_korban) as perempuan\n",
        "  from `hacktiv8-tama.kekerasan_pada_lakilaki_perempuan.perempuan`\n",
        "  group by kabupaten) as perempuan\n",
        "    on perempuan.kabupaten = laki.nama_kabupaten_kota\n",
        "group by kabupaten, perempuan\n",
        "order by total desc''').to_dataframe().reset_index()\n",
        "\n",
        "#The most both male & female\n",
        "print('__________________________________________________________')\n",
        "print('City with the most victim both male and female :', '\\n')\n",
        "print(male_female.head(3), '\\n')\n",
        "print('__________________________________________________________')\n",
        "\n",
        "#The least both male & female\n",
        "print('City with the least victim both male and female :', '\\n')\n",
        "print(male_female.tail(3))"
      ],
      "metadata": {
        "id": "S2ALp9SFC8D1",
        "colab": {
          "base_uri": "https://localhost:8080/"
        },
        "outputId": "8f39225d-b497-44d4-afc8-ceb341dbbc03"
      },
      "execution_count": 57,
      "outputs": [
        {
          "output_type": "stream",
          "name": "stdout",
          "text": [
            "__________________________________________________________\n",
            "City with the most victim both male and female : \n",
            "\n",
            "   index           kabupaten  laki_laki  perempuan  total\n",
            "0      0        KOTA BANDUNG        208        717    925\n",
            "1      1  KABUPATEN SUKABUMI        115        520    635\n",
            "2      2   KABUPATEN BANDUNG        134        477    611 \n",
            "\n",
            "__________________________________________________________\n",
            "City with the least victim both male and female : \n",
            "\n",
            "    index           kabupaten  laki_laki  perempuan  total\n",
            "24     24    KOTA TASIKMALAYA         15         53     68\n",
            "25     25  KABUPATEN KUNINGAN         18         48     66\n",
            "26     26   KABUPATEN CIANJUR         13         17     30\n"
          ]
        }
      ]
    },
    {
      "cell_type": "markdown",
      "source": [
        "***answer***  \n",
        "Even, after we combined two dataframe, Kota Bandung is still the most family violence towards male and female during 2017 to 2022. Meanwhile, the during the 5 years Kabupaten Cianjur is still the lowest one.  \n"
      ],
      "metadata": {
        "id": "dQHuAA8JtikP"
      }
    },
    {
      "cell_type": "markdown",
      "source": [
        "###6. Which gender is the highest number of victim in West Java province?"
      ],
      "metadata": {
        "id": "Wvv5SxC3w_mm"
      }
    },
    {
      "cell_type": "code",
      "source": [
        "\n",
        "gender_rank = client.query('''\n",
        "select\n",
        "  distinct jenis_kelamin,\n",
        "  sum(jumlah_korban) as jumlah_korban\n",
        "from\n",
        "(select\n",
        "  nama_kabupaten_kota as kabupaten,\n",
        "  kelompok_usia as usia,\n",
        "  jumlah_korban,\n",
        "  tahun,\n",
        "  'laki-laki' as jenis_kelamin\n",
        "from `hacktiv8-tama.kekerasan_pada_lakilaki_perempuan.lakilaki`\n",
        "union all\n",
        "select\n",
        "  nama_kabupaten_kota as kabupaten,\n",
        "  kelompok_usia as usia,\n",
        "  jumlah_korban,\n",
        "  tahun,\n",
        "  'perempuan' as jenis_kelamin\n",
        "from `hacktiv8-tama.kekerasan_pada_lakilaki_perempuan.perempuan`)\n",
        "group by jenis_kelamin\n",
        "''').to_dataframe()\n",
        "\n",
        "# pie chart\n",
        "gender = gender_rank['jenis_kelamin'].tolist()\n",
        "korban_mf = gender_rank['jumlah_korban'].tolist()\n",
        "fig1, ax1 = plt.subplots(figsize=(5,5))\n",
        "ax1.pie(korban_mf, labels=gender, autopct='%1.0f%%',\n",
        "        shadow=True, startangle=180,textprops={'fontsize': 15})\n",
        "ax1.axis('equal')\n",
        "plt.show()\n",
        "\n",
        "print(gender_rank.reset_index())"
      ],
      "metadata": {
        "id": "rb5tHLxvxFMU",
        "colab": {
          "base_uri": "https://localhost:8080/",
          "height": 355
        },
        "outputId": "292b0679-0939-4863-914a-9b5d1bc6036c"
      },
      "execution_count": 58,
      "outputs": [
        {
          "output_type": "display_data",
          "data": {
            "text/plain": [
              "<Figure size 360x360 with 1 Axes>"
            ],
            "image/png": "[encoded data removed]"
          },
          "metadata": {}
        },
        {
          "output_type": "stream",
          "name": "stdout",
          "text": [
            "   index jenis_kelamin  jumlah_korban\n",
            "0      0     laki-laki           1205\n",
            "1      1     perempuan           4690\n"
          ]
        }
      ]
    },
    {
      "cell_type": "markdown",
      "source": [
        "***answer***  \n",
        "The graphic shows clearly the comparison between male and female victim that woman is the most one with 80% of total case during 2017 to 2022."
      ],
      "metadata": {
        "id": "K86_GsfcPWP2"
      }
    },
    {
      "cell_type": "markdown",
      "source": [
        "### 7. From 2017 to 2021, what city is the first rank from month to month towards male and female?"
      ],
      "metadata": {
        "id": "t8Jx--DQQt7C"
      }
    },
    {
      "cell_type": "code",
      "source": [
        "yeartoyear = client.query('''\n",
        "select\n",
        "  distinct tahun,\n",
        "  kabupaten as first_rank_kota,\n",
        "  jumlah_korban\n",
        "from\n",
        "  (select *,\n",
        "    dense_rank() over (partition by tahun order by jumlah_korban desc) as rank\n",
        "  from\n",
        "    (select\n",
        "        distinct tahun,\n",
        "        kabupaten,\n",
        "        sum(jumlah_korban) as jumlah_korban\n",
        "      from\n",
        "        (select\n",
        "          nama_kabupaten_kota as kabupaten,\n",
        "          kelompok_usia as usia,\n",
        "          jumlah_korban,\n",
        "          tahun,\n",
        "          'laki-laki' as jenis_kelamin\n",
        "        from `hacktiv8-tama.kekerasan_pada_lakilaki_perempuan.lakilaki`\n",
        "        union all\n",
        "        select\n",
        "          nama_kabupaten_kota as kabupaten,\n",
        "          kelompok_usia as usia,\n",
        "          jumlah_korban,\n",
        "          tahun,\n",
        "          'perempuan' as jenis_kelamin\n",
        "        from `hacktiv8-tama.kekerasan_pada_lakilaki_perempuan.perempuan`\n",
        "        order by jumlah_korban, tahun desc)\n",
        "      group by tahun, kabupaten))\n",
        "where rank=1\n",
        "order by tahun\n",
        "''').to_dataframe()\n",
        "yeartoyear"
      ],
      "metadata": {
        "id": "hZDcMhO7WGwn",
        "colab": {
          "base_uri": "https://localhost:8080/",
          "height": 215
        },
        "outputId": "ad3c115c-3903-43d4-f0df-c6a011416382"
      },
      "execution_count": 59,
      "outputs": [
        {
          "output_type": "execute_result",
          "data": {
            "text/plain": [
              "   tahun    first_rank_kota  jumlah_korban\n",
              "0   2017  KABUPATEN BANDUNG            171\n",
              "1   2018         KOTA DEPOK             99\n",
              "2   2019       KOTA BANDUNG            296\n",
              "3   2020       KOTA BANDUNG            253\n",
              "4   2021       KOTA BANDUNG            255"
            ],
            "text/html": [
              "\n",
              "  <div id=\"df-8577ef88-0f89-48ed-ad19-3f547889ca56\">\n",
              "    <div class=\"colab-df-container\">\n",
              "      <div>\n",
              "<style scoped>\n",
              "    .dataframe tbody tr th:only-of-type {\n",
              "        vertical-align: middle;\n",
              "    }\n",
              "\n",
              "    .dataframe tbody tr th {\n",
              "        vertical-align: top;\n",
              "    }\n",
              "\n",
              "    .dataframe thead th {\n",
              "        text-align: right;\n",
              "    }\n",
              "</style>\n",
              "<table border=\"1\" class=\"dataframe\">\n",
              "  <thead>\n",
              "    <tr style=\"text-align: right;\">\n",
              "      <th></th>\n",
              "      <th>tahun</th>\n",
              "      <th>first_rank_kota</th>\n",
              "      <th>jumlah_korban</th>\n",
              "    </tr>\n",
              "  </thead>\n",
              "  <tbody>\n",
              "    <tr>\n",
              "      <th>0</th>\n",
              "      <td>2017</td>\n",
              "      <td>KABUPATEN BANDUNG</td>\n",
              "      <td>171</td>\n",
              "    </tr>\n",
              "    <tr>\n",
              "      <th>1</th>\n",
              "      <td>2018</td>\n",
              "      <td>KOTA DEPOK</td>\n",
              "      <td>99</td>\n",
              "    </tr>\n",
              "    <tr>\n",
              "      <th>2</th>\n",
              "      <td>2019</td>\n",
              "      <td>KOTA BANDUNG</td>\n",
              "      <td>296</td>\n",
              "    </tr>\n",
              "    <tr>\n",
              "      <th>3</th>\n",
              "      <td>2020</td>\n",
              "      <td>KOTA BANDUNG</td>\n",
              "      <td>253</td>\n",
              "    </tr>\n",
              "    <tr>\n",
              "      <th>4</th>\n",
              "      <td>2021</td>\n",
              "      <td>KOTA BANDUNG</td>\n",
              "      <td>255</td>\n",
              "    </tr>\n",
              "  </tbody>\n",
              "</table>\n",
              "</div>\n",
              "      <button class=\"colab-df-convert\" onclick=\"convertToInteractive('df-8577ef88-0f89-48ed-ad19-3f547889ca56')\"\n",
              "              title=\"Convert this dataframe to an interactive table.\"\n",
              "              style=\"display:none;\">\n",
              "        \n",
              "  <svg xmlns=\"http://www.w3.org/2000/svg\" height=\"24px\"viewBox=\"0 0 24 24\"\n",
              "       width=\"24px\">\n",
              "    <path d=\"M0 0h24v24H0V0z\" fill=\"none\"/>\n",
              "    <path d=\"M18.56 5.44l.94 2.06.94-2.06 2.06-.94-2.06-.94-.94-2.06-.94 2.06-2.06.94zm-11 1L8.5 8.5l.94-2.06 2.06-.94-2.06-.94L8.5 2.5l-.94 2.06-2.06.94zm10 10l.94 2.06.94-2.06 2.06-.94-2.06-.94-.94-2.06-.94 2.06-2.06.94z\"/><path d=\"M17.41 7.96l-1.37-1.37c-.4-.4-.92-.59-1.43-.59-.52 0-1.04.2-1.43.59L10.3 9.45l-7.72 7.72c-.78.78-.78 2.05 0 2.83L4 21.41c.39.39.9.59 1.41.59.51 0 1.02-.2 1.41-.59l7.78-7.78 2.81-2.81c.8-.78.8-2.07 0-2.86zM5.41 20L4 18.59l7.72-7.72 1.47 1.35L5.41 20z\"/>\n",
              "  </svg>\n",
              "      </button>\n",
              "      \n",
              "  <style>\n",
              "    .colab-df-container {\n",
              "      display:flex;\n",
              "      flex-wrap:wrap;\n",
              "      gap: 12px;\n",
              "    }\n",
              "\n",
              "    .colab-df-convert {\n",
              "      background-color: #E8F0FE;\n",
              "      border: none;\n",
              "      border-radius: 50%;\n",
              "      cursor: pointer;\n",
              "      display: none;\n",
              "      fill: #1967D2;\n",
              "      height: 32px;\n",
              "      padding: 0 0 0 0;\n",
              "      width: 32px;\n",
              "    }\n",
              "\n",
              "    .colab-df-convert:hover {\n",
              "      background-color: #E2EBFA;\n",
              "      box-shadow: 0px 1px 2px rgba(60, 64, 67, 0.3), 0px 1px 3px 1px rgba(60, 64, 67, 0.15);\n",
              "      fill: #174EA6;\n",
              "    }\n",
              "\n",
              "    [theme=dark] .colab-df-convert {\n",
              "      background-color: #3B4455;\n",
              "      fill: #D2E3FC;\n",
              "    }\n",
              "\n",
              "    [theme=dark] .colab-df-convert:hover {\n",
              "      background-color: #434B5C;\n",
              "      box-shadow: 0px 1px 3px 1px rgba(0, 0, 0, 0.15);\n",
              "      filter: drop-shadow(0px 1px 2px rgba(0, 0, 0, 0.3));\n",
              "      fill: #FFFFFF;\n",
              "    }\n",
              "  </style>\n",
              "\n",
              "      <script>\n",
              "        const buttonEl =\n",
              "          document.querySelector('#df-8577ef88-0f89-48ed-ad19-3f547889ca56 button.colab-df-convert');\n",
              "        buttonEl.style.display =\n",
              "          google.colab.kernel.accessAllowed ? 'block' : 'none';\n",
              "\n",
              "        async function convertToInteractive(key) {\n",
              "          const element = document.querySelector('#df-8577ef88-0f89-48ed-ad19-3f547889ca56');\n",
              "          const dataTable =\n",
              "            await google.colab.kernel.invokeFunction('convertToInteractive',\n",
              "                                                     [key], {});\n",
              "          if (!dataTable) return;\n",
              "\n",
              "          const docLinkHtml = 'Like what you see? Visit the ' +\n",
              "            '<a target=\"_blank\" href=https://colab.research.google.com/notebooks/data_table.ipynb>data table notebook</a>'\n",
              "            + ' to learn more about interactive tables.';\n",
              "          element.innerHTML = '';\n",
              "          dataTable['output_type'] = 'display_data';\n",
              "          await google.colab.output.renderOutput(dataTable, element);\n",
              "          const docLink = document.createElement('div');\n",
              "          docLink.innerHTML = docLinkHtml;\n",
              "          element.appendChild(docLink);\n",
              "        }\n",
              "      </script>\n",
              "    </div>\n",
              "  </div>\n",
              "  "
            ]
          },
          "metadata": {},
          "execution_count": 59
        }
      ]
    },
    {
      "cell_type": "markdown",
      "source": [
        "***answer***  \n",
        "The table above shows the first rank of the year of city in West Java. The last three years proved that Kota Bandung is the city with the most violence towards either male or female.\n",
        "\n",
        "To prevent worse future outcome, local government has to do a research why Kota Bandung is the most family violence based on the data we have concluded. "
      ],
      "metadata": {
        "id": "AW98YrJy15Jl"
      }
    },
    {
      "cell_type": "markdown",
      "source": [
        "# CENTRAL TENDENCY"
      ],
      "metadata": {
        "id": "9JgSEaLbBI6u"
      }
    },
    {
      "cell_type": "markdown",
      "source": [
        "###1. Family violence towards male based on cities in West Java"
      ],
      "metadata": {
        "id": "9-draH6I5fjj"
      }
    },
    {
      "cell_type": "code",
      "source": [
        "sum_male.describe().round().T"
      ],
      "metadata": {
        "colab": {
          "base_uri": "https://localhost:8080/",
          "height": 81
        },
        "id": "vWBcZ7e55lec",
        "outputId": "d87e6942-c1c8-4558-a820-469ae28f455e"
      },
      "execution_count": 60,
      "outputs": [
        {
          "output_type": "execute_result",
          "data": {
            "text/plain": [
              "               count  mean   std   min   25%   50%   75%    max\n",
              "jumlah_korban   27.0  45.0  47.0  13.0  16.0  18.0  58.0  208.0"
            ],
            "text/html": [
              "\n",
              "  <div id=\"df-6890d3f5-5263-4fc3-8a7b-da26b79c3559\">\n",
              "    <div class=\"colab-df-container\">\n",
              "      <div>\n",
              "<style scoped>\n",
              "    .dataframe tbody tr th:only-of-type {\n",
              "        vertical-align: middle;\n",
              "    }\n",
              "\n",
              "    .dataframe tbody tr th {\n",
              "        vertical-align: top;\n",
              "    }\n",
              "\n",
              "    .dataframe thead th {\n",
              "        text-align: right;\n",
              "    }\n",
              "</style>\n",
              "<table border=\"1\" class=\"dataframe\">\n",
              "  <thead>\n",
              "    <tr style=\"text-align: right;\">\n",
              "      <th></th>\n",
              "      <th>count</th>\n",
              "      <th>mean</th>\n",
              "      <th>std</th>\n",
              "      <th>min</th>\n",
              "      <th>25%</th>\n",
              "      <th>50%</th>\n",
              "      <th>75%</th>\n",
              "      <th>max</th>\n",
              "    </tr>\n",
              "  </thead>\n",
              "  <tbody>\n",
              "    <tr>\n",
              "      <th>jumlah_korban</th>\n",
              "      <td>27.0</td>\n",
              "      <td>45.0</td>\n",
              "      <td>47.0</td>\n",
              "      <td>13.0</td>\n",
              "      <td>16.0</td>\n",
              "      <td>18.0</td>\n",
              "      <td>58.0</td>\n",
              "      <td>208.0</td>\n",
              "    </tr>\n",
              "  </tbody>\n",
              "</table>\n",
              "</div>\n",
              "      <button class=\"colab-df-convert\" onclick=\"convertToInteractive('df-6890d3f5-5263-4fc3-8a7b-da26b79c3559')\"\n",
              "              title=\"Convert this dataframe to an interactive table.\"\n",
              "              style=\"display:none;\">\n",
              "        \n",
              "  <svg xmlns=\"http://www.w3.org/2000/svg\" height=\"24px\"viewBox=\"0 0 24 24\"\n",
              "       width=\"24px\">\n",
              "    <path d=\"M0 0h24v24H0V0z\" fill=\"none\"/>\n",
              "    <path d=\"M18.56 5.44l.94 2.06.94-2.06 2.06-.94-2.06-.94-.94-2.06-.94 2.06-2.06.94zm-11 1L8.5 8.5l.94-2.06 2.06-.94-2.06-.94L8.5 2.5l-.94 2.06-2.06.94zm10 10l.94 2.06.94-2.06 2.06-.94-2.06-.94-.94-2.06-.94 2.06-2.06.94z\"/><path d=\"M17.41 7.96l-1.37-1.37c-.4-.4-.92-.59-1.43-.59-.52 0-1.04.2-1.43.59L10.3 9.45l-7.72 7.72c-.78.78-.78 2.05 0 2.83L4 21.41c.39.39.9.59 1.41.59.51 0 1.02-.2 1.41-.59l7.78-7.78 2.81-2.81c.8-.78.8-2.07 0-2.86zM5.41 20L4 18.59l7.72-7.72 1.47 1.35L5.41 20z\"/>\n",
              "  </svg>\n",
              "      </button>\n",
              "      \n",
              "  <style>\n",
              "    .colab-df-container {\n",
              "      display:flex;\n",
              "      flex-wrap:wrap;\n",
              "      gap: 12px;\n",
              "    }\n",
              "\n",
              "    .colab-df-convert {\n",
              "      background-color: #E8F0FE;\n",
              "      border: none;\n",
              "      border-radius: 50%;\n",
              "      cursor: pointer;\n",
              "      display: none;\n",
              "      fill: #1967D2;\n",
              "      height: 32px;\n",
              "      padding: 0 0 0 0;\n",
              "      width: 32px;\n",
              "    }\n",
              "\n",
              "    .colab-df-convert:hover {\n",
              "      background-color: #E2EBFA;\n",
              "      box-shadow: 0px 1px 2px rgba(60, 64, 67, 0.3), 0px 1px 3px 1px rgba(60, 64, 67, 0.15);\n",
              "      fill: #174EA6;\n",
              "    }\n",
              "\n",
              "    [theme=dark] .colab-df-convert {\n",
              "      background-color: #3B4455;\n",
              "      fill: #D2E3FC;\n",
              "    }\n",
              "\n",
              "    [theme=dark] .colab-df-convert:hover {\n",
              "      background-color: #434B5C;\n",
              "      box-shadow: 0px 1px 3px 1px rgba(0, 0, 0, 0.15);\n",
              "      filter: drop-shadow(0px 1px 2px rgba(0, 0, 0, 0.3));\n",
              "      fill: #FFFFFF;\n",
              "    }\n",
              "  </style>\n",
              "\n",
              "      <script>\n",
              "        const buttonEl =\n",
              "          document.querySelector('#df-6890d3f5-5263-4fc3-8a7b-da26b79c3559 button.colab-df-convert');\n",
              "        buttonEl.style.display =\n",
              "          google.colab.kernel.accessAllowed ? 'block' : 'none';\n",
              "\n",
              "        async function convertToInteractive(key) {\n",
              "          const element = document.querySelector('#df-6890d3f5-5263-4fc3-8a7b-da26b79c3559');\n",
              "          const dataTable =\n",
              "            await google.colab.kernel.invokeFunction('convertToInteractive',\n",
              "                                                     [key], {});\n",
              "          if (!dataTable) return;\n",
              "\n",
              "          const docLinkHtml = 'Like what you see? Visit the ' +\n",
              "            '<a target=\"_blank\" href=https://colab.research.google.com/notebooks/data_table.ipynb>data table notebook</a>'\n",
              "            + ' to learn more about interactive tables.';\n",
              "          element.innerHTML = '';\n",
              "          dataTable['output_type'] = 'display_data';\n",
              "          await google.colab.output.renderOutput(dataTable, element);\n",
              "          const docLink = document.createElement('div');\n",
              "          docLink.innerHTML = docLinkHtml;\n",
              "          element.appendChild(docLink);\n",
              "        }\n",
              "      </script>\n",
              "    </div>\n",
              "  </div>\n",
              "  "
            ]
          },
          "metadata": {},
          "execution_count": 60
        }
      ]
    },
    {
      "cell_type": "code",
      "source": [
        "sum_male.plot.hist(title='Male Victims Based On Cities', color='grey', bins=25)  \n",
        "axvline_mean = plt.axvline(sum_male['jumlah_korban'].mean(), color='red', linestyle='dashed', linewidth=2)\n",
        "axvline_median = plt.axvline(sum_male['jumlah_korban'].median(), color='blue', linestyle='dashed', linewidth=2)\n",
        "plt.show()\n",
        "\n",
        "print('Skewness value :', sum_male['jumlah_korban'].skew().round(2))\n",
        "print('Average victims per year per city :', (sum_male['jumlah_korban'].mean()/5).round(), 'persons')"
      ],
      "metadata": {
        "colab": {
          "base_uri": "https://localhost:8080/",
          "height": 316
        },
        "id": "7Iv-DcEH83bO",
        "outputId": "d1c5966e-8647-4847-9929-a0333b810381"
      },
      "execution_count": 61,
      "outputs": [
        {
          "output_type": "display_data",
          "data": {
            "text/plain": [
              "<Figure size 432x288 with 1 Axes>"
            ],
            "image/png": "[encoded data removed]"
          },
          "metadata": {
            "needs_background": "light"
          }
        },
        {
          "output_type": "stream",
          "name": "stdout",
          "text": [
            "Skewness value : 2.13\n",
            "Average victims per year per city : 9.0 persons\n"
          ]
        }
      ]
    },
    {
      "cell_type": "markdown",
      "source": [
        "From 27 total cities in West Java, the average victims per are is 45 persons from 2017 to 2021. This means average per year is 9 persons per city. "
      ],
      "metadata": {
        "id": "9u8PHYW16nb4"
      }
    },
    {
      "cell_type": "markdown",
      "source": [
        "###2. Family violence towards male based on cities in West Java"
      ],
      "metadata": {
        "id": "YdsVjBWz-N3_"
      }
    },
    {
      "cell_type": "code",
      "source": [
        "sum_female.describe().round().T"
      ],
      "metadata": {
        "colab": {
          "base_uri": "https://localhost:8080/",
          "height": 81
        },
        "id": "z4bLyZCu-UdF",
        "outputId": "20c0c3e1-8b7a-4293-f4af-23fba6ebcd86"
      },
      "execution_count": 62,
      "outputs": [
        {
          "output_type": "execute_result",
          "data": {
            "text/plain": [
              "               count   mean    std   min   25%    50%    75%    max\n",
              "jumlah_korban   27.0  174.0  172.0  17.0  74.0  103.0  206.0  717.0"
            ],
            "text/html": [
              "\n",
              "  <div id=\"df-271a390d-c08a-475e-9502-c36a5e561dc6\">\n",
              "    <div class=\"colab-df-container\">\n",
              "      <div>\n",
              "<style scoped>\n",
              "    .dataframe tbody tr th:only-of-type {\n",
              "        vertical-align: middle;\n",
              "    }\n",
              "\n",
              "    .dataframe tbody tr th {\n",
              "        vertical-align: top;\n",
              "    }\n",
              "\n",
              "    .dataframe thead th {\n",
              "        text-align: right;\n",
              "    }\n",
              "</style>\n",
              "<table border=\"1\" class=\"dataframe\">\n",
              "  <thead>\n",
              "    <tr style=\"text-align: right;\">\n",
              "      <th></th>\n",
              "      <th>count</th>\n",
              "      <th>mean</th>\n",
              "      <th>std</th>\n",
              "      <th>min</th>\n",
              "      <th>25%</th>\n",
              "      <th>50%</th>\n",
              "      <th>75%</th>\n",
              "      <th>max</th>\n",
              "    </tr>\n",
              "  </thead>\n",
              "  <tbody>\n",
              "    <tr>\n",
              "      <th>jumlah_korban</th>\n",
              "      <td>27.0</td>\n",
              "      <td>174.0</td>\n",
              "      <td>172.0</td>\n",
              "      <td>17.0</td>\n",
              "      <td>74.0</td>\n",
              "      <td>103.0</td>\n",
              "      <td>206.0</td>\n",
              "      <td>717.0</td>\n",
              "    </tr>\n",
              "  </tbody>\n",
              "</table>\n",
              "</div>\n",
              "      <button class=\"colab-df-convert\" onclick=\"convertToInteractive('df-271a390d-c08a-475e-9502-c36a5e561dc6')\"\n",
              "              title=\"Convert this dataframe to an interactive table.\"\n",
              "              style=\"display:none;\">\n",
              "        \n",
              "  <svg xmlns=\"http://www.w3.org/2000/svg\" height=\"24px\"viewBox=\"0 0 24 24\"\n",
              "       width=\"24px\">\n",
              "    <path d=\"M0 0h24v24H0V0z\" fill=\"none\"/>\n",
              "    <path d=\"M18.56 5.44l.94 2.06.94-2.06 2.06-.94-2.06-.94-.94-2.06-.94 2.06-2.06.94zm-11 1L8.5 8.5l.94-2.06 2.06-.94-2.06-.94L8.5 2.5l-.94 2.06-2.06.94zm10 10l.94 2.06.94-2.06 2.06-.94-2.06-.94-.94-2.06-.94 2.06-2.06.94z\"/><path d=\"M17.41 7.96l-1.37-1.37c-.4-.4-.92-.59-1.43-.59-.52 0-1.04.2-1.43.59L10.3 9.45l-7.72 7.72c-.78.78-.78 2.05 0 2.83L4 21.41c.39.39.9.59 1.41.59.51 0 1.02-.2 1.41-.59l7.78-7.78 2.81-2.81c.8-.78.8-2.07 0-2.86zM5.41 20L4 18.59l7.72-7.72 1.47 1.35L5.41 20z\"/>\n",
              "  </svg>\n",
              "      </button>\n",
              "      \n",
              "  <style>\n",
              "    .colab-df-container {\n",
              "      display:flex;\n",
              "      flex-wrap:wrap;\n",
              "      gap: 12px;\n",
              "    }\n",
              "\n",
              "    .colab-df-convert {\n",
              "      background-color: #E8F0FE;\n",
              "      border: none;\n",
              "      border-radius: 50%;\n",
              "      cursor: pointer;\n",
              "      display: none;\n",
              "      fill: #1967D2;\n",
              "      height: 32px;\n",
              "      padding: 0 0 0 0;\n",
              "      width: 32px;\n",
              "    }\n",
              "\n",
              "    .colab-df-convert:hover {\n",
              "      background-color: #E2EBFA;\n",
              "      box-shadow: 0px 1px 2px rgba(60, 64, 67, 0.3), 0px 1px 3px 1px rgba(60, 64, 67, 0.15);\n",
              "      fill: #174EA6;\n",
              "    }\n",
              "\n",
              "    [theme=dark] .colab-df-convert {\n",
              "      background-color: #3B4455;\n",
              "      fill: #D2E3FC;\n",
              "    }\n",
              "\n",
              "    [theme=dark] .colab-df-convert:hover {\n",
              "      background-color: #434B5C;\n",
              "      box-shadow: 0px 1px 3px 1px rgba(0, 0, 0, 0.15);\n",
              "      filter: drop-shadow(0px 1px 2px rgba(0, 0, 0, 0.3));\n",
              "      fill: #FFFFFF;\n",
              "    }\n",
              "  </style>\n",
              "\n",
              "      <script>\n",
              "        const buttonEl =\n",
              "          document.querySelector('#df-271a390d-c08a-475e-9502-c36a5e561dc6 button.colab-df-convert');\n",
              "        buttonEl.style.display =\n",
              "          google.colab.kernel.accessAllowed ? 'block' : 'none';\n",
              "\n",
              "        async function convertToInteractive(key) {\n",
              "          const element = document.querySelector('#df-271a390d-c08a-475e-9502-c36a5e561dc6');\n",
              "          const dataTable =\n",
              "            await google.colab.kernel.invokeFunction('convertToInteractive',\n",
              "                                                     [key], {});\n",
              "          if (!dataTable) return;\n",
              "\n",
              "          const docLinkHtml = 'Like what you see? Visit the ' +\n",
              "            '<a target=\"_blank\" href=https://colab.research.google.com/notebooks/data_table.ipynb>data table notebook</a>'\n",
              "            + ' to learn more about interactive tables.';\n",
              "          element.innerHTML = '';\n",
              "          dataTable['output_type'] = 'display_data';\n",
              "          await google.colab.output.renderOutput(dataTable, element);\n",
              "          const docLink = document.createElement('div');\n",
              "          docLink.innerHTML = docLinkHtml;\n",
              "          element.appendChild(docLink);\n",
              "        }\n",
              "      </script>\n",
              "    </div>\n",
              "  </div>\n",
              "  "
            ]
          },
          "metadata": {},
          "execution_count": 62
        }
      ]
    },
    {
      "cell_type": "code",
      "source": [
        "sum_female.plot.hist(title='Female Victims Based On Cities', color='grey', bins=25)  \n",
        "axvline_mean = plt.axvline(sum_female['jumlah_korban'].mean(), color='red', linestyle='dashed', linewidth=2)\n",
        "axvline_median = plt.axvline(sum_female['jumlah_korban'].median(), color='blue', linestyle='dashed', linewidth=2)\n",
        "plt.show()\n",
        "\n",
        "print('Skewness value :', sum_female['jumlah_korban'].skew().round(2))\n",
        "print('Average victims per year per city :', (sum_female['jumlah_korban'].mean()/5).round(), 'persons')"
      ],
      "metadata": {
        "colab": {
          "base_uri": "https://localhost:8080/",
          "height": 316
        },
        "id": "3dEGhv0l_BOG",
        "outputId": "bb8fbedf-f953-440c-dc44-83953eda7add"
      },
      "execution_count": 63,
      "outputs": [
        {
          "output_type": "display_data",
          "data": {
            "text/plain": [
              "<Figure size 432x288 with 1 Axes>"
            ],
            "image/png": "[encoded data removed]"
          },
          "metadata": {
            "needs_background": "light"
          }
        },
        {
          "output_type": "stream",
          "name": "stdout",
          "text": [
            "Skewness value : 1.87\n",
            "Average victims per year per city : 35.0 persons\n"
          ]
        }
      ]
    },
    {
      "cell_type": "markdown",
      "source": [
        "#HYPOTHESIS TESTING"
      ],
      "metadata": {
        "id": "ihvYoUVKANy_"
      }
    },
    {
      "cell_type": "markdown",
      "source": [
        "There is one interesting point we will try to analyze. **KOTA BANDUNG** is cith with the highest responsible in social issue of family violence, this city was in the first rank of the year in a row during 2019 to 2021. Meanwhile, **KABUPATEN CIANJUR** is the lowest one, it has only 30 victims both male and female during 2017 to 2021.\n",
        "\n",
        "We will try to prove that people of KOTA BANDUNG and KABUPATEN CIANJUR whether they have a same tendency in family violence or has a same social issue.\n",
        "\n",
        "Let's define the two cities with symbol :\n",
        "\n",
        "      μ = KOTA BANDUNG  \n",
        "      x = KABUPATEN CIANJUR\n",
        "  \n",
        "\n",
        "State the first hypothesis :  \n",
        "   **𝐻0 : μ family violence = x family violence**  \n",
        "\n",
        "State the first hypothesis :  \n",
        "   **𝐻1 : μ family violence != x family violence**  \n",
        "\n",
        "\n",
        "The null hypothesis (H0) states that KOTA BANDUNG has a same tendency in family violence or social behavior with KABUPATEN CIANJUR or vice versa.\n",
        "\n",
        "The alternative hypothesis (H1) states that KOTA BANDUNG has no same tendency or in family violence or social behavior with KABUPATEN CIANJUR or vice versa.  \n",
        "\n",
        "Take a look the dataframe of KOTA BANDUNG and KABUPATEN CIANJUR as following :"
      ],
      "metadata": {
        "id": "NMWH7o20BaLF"
      }
    },
    {
      "cell_type": "code",
      "source": [
        "dfhypothesis = client.query('''\n",
        "select\n",
        "  kabupaten,\n",
        "  tahun,\n",
        "  sum(jumlah_korban) as jumlah_korban\n",
        "from\n",
        "  (select\n",
        "    nama_kabupaten_kota as kabupaten,\n",
        "    tahun,\n",
        "    SUM(jumlah_korban) as jumlah_korban,\n",
        "  from `hacktiv8-tama.kekerasan_pada_lakilaki_perempuan.lakilaki`\n",
        "  where nama_kabupaten_kota='KOTA BANDUNG'\n",
        "  group by nama_kabupaten_kota, tahun\n",
        "  union all\n",
        "  select\n",
        "    nama_kabupaten_kota as kabupaten,\n",
        "    tahun,\n",
        "    sum(jumlah_korban) as jumlah_korban,\n",
        "  from `hacktiv8-tama.kekerasan_pada_lakilaki_perempuan.perempuan`\n",
        "  where nama_kabupaten_kota='KOTA BANDUNG'\n",
        "  group by nama_kabupaten_kota, tahun)\n",
        "group by kabupaten,tahun\n",
        "union all\n",
        "select\n",
        "  kabupaten,\n",
        "  tahun,\n",
        "  sum(jumlah_korban) as jumlah_korban\n",
        "from\n",
        "  (select\n",
        "    nama_kabupaten_kota as kabupaten,\n",
        "    tahun,\n",
        "    SUM(jumlah_korban) as jumlah_korban,\n",
        "  from `hacktiv8-tama.kekerasan_pada_lakilaki_perempuan.lakilaki`\n",
        "  where nama_kabupaten_kota='KABUPATEN CIANJUR'\n",
        "  group by nama_kabupaten_kota, tahun\n",
        "  union all\n",
        "  select\n",
        "    nama_kabupaten_kota as kabupaten,\n",
        "    tahun,\n",
        "    sum(jumlah_korban) as jumlah_korban,\n",
        "  from `hacktiv8-tama.kekerasan_pada_lakilaki_perempuan.perempuan`\n",
        "  where nama_kabupaten_kota='KABUPATEN CIANJUR'\n",
        "  group by nama_kabupaten_kota, tahun)\n",
        "group by kabupaten,tahun\n",
        "''').to_dataframe()\n",
        "dfhypothesis"
      ],
      "metadata": {
        "colab": {
          "base_uri": "https://localhost:8080/",
          "height": 322
        },
        "id": "TFaNHHxiNi0v",
        "outputId": "c9d563c7-c675-4e7c-f1b2-49547419a9d1"
      },
      "execution_count": 93,
      "outputs": [
        {
          "output_type": "execute_result",
          "data": {
            "text/plain": [
              "           kabupaten  tahun  jumlah_korban\n",
              "0  KABUPATEN CIANJUR   2017             11\n",
              "1  KABUPATEN CIANJUR   2018              6\n",
              "2  KABUPATEN CIANJUR   2019              3\n",
              "3  KABUPATEN CIANJUR   2020              2\n",
              "4  KABUPATEN CIANJUR   2021              8\n",
              "5       KOTA BANDUNG   2017             54\n",
              "6       KOTA BANDUNG   2018             67\n",
              "7       KOTA BANDUNG   2019            296\n",
              "8       KOTA BANDUNG   2020            253\n",
              "9       KOTA BANDUNG   2021            255"
            ],
            "text/html": [
              "\n",
              "  <div id=\"df-8130db64-f198-4a04-a9cd-791d763c5bd6\">\n",
              "    <div class=\"colab-df-container\">\n",
              "      <div>\n",
              "<style scoped>\n",
              "    .dataframe tbody tr th:only-of-type {\n",
              "        vertical-align: middle;\n",
              "    }\n",
              "\n",
              "    .dataframe tbody tr th {\n",
              "        vertical-align: top;\n",
              "    }\n",
              "\n",
              "    .dataframe thead th {\n",
              "        text-align: right;\n",
              "    }\n",
              "</style>\n",
              "<table border=\"1\" class=\"dataframe\">\n",
              "  <thead>\n",
              "    <tr style=\"text-align: right;\">\n",
              "      <th></th>\n",
              "      <th>kabupaten</th>\n",
              "      <th>tahun</th>\n",
              "      <th>jumlah_korban</th>\n",
              "    </tr>\n",
              "  </thead>\n",
              "  <tbody>\n",
              "    <tr>\n",
              "      <th>0</th>\n",
              "      <td>KABUPATEN CIANJUR</td>\n",
              "      <td>2017</td>\n",
              "      <td>11</td>\n",
              "    </tr>\n",
              "    <tr>\n",
              "      <th>1</th>\n",
              "      <td>KABUPATEN CIANJUR</td>\n",
              "      <td>2018</td>\n",
              "      <td>6</td>\n",
              "    </tr>\n",
              "    <tr>\n",
              "      <th>2</th>\n",
              "      <td>KABUPATEN CIANJUR</td>\n",
              "      <td>2019</td>\n",
              "      <td>3</td>\n",
              "    </tr>\n",
              "    <tr>\n",
              "      <th>3</th>\n",
              "      <td>KABUPATEN CIANJUR</td>\n",
              "      <td>2020</td>\n",
              "      <td>2</td>\n",
              "    </tr>\n",
              "    <tr>\n",
              "      <th>4</th>\n",
              "      <td>KABUPATEN CIANJUR</td>\n",
              "      <td>2021</td>\n",
              "      <td>8</td>\n",
              "    </tr>\n",
              "    <tr>\n",
              "      <th>5</th>\n",
              "      <td>KOTA BANDUNG</td>\n",
              "      <td>2017</td>\n",
              "      <td>54</td>\n",
              "    </tr>\n",
              "    <tr>\n",
              "      <th>6</th>\n",
              "      <td>KOTA BANDUNG</td>\n",
              "      <td>2018</td>\n",
              "      <td>67</td>\n",
              "    </tr>\n",
              "    <tr>\n",
              "      <th>7</th>\n",
              "      <td>KOTA BANDUNG</td>\n",
              "      <td>2019</td>\n",
              "      <td>296</td>\n",
              "    </tr>\n",
              "    <tr>\n",
              "      <th>8</th>\n",
              "      <td>KOTA BANDUNG</td>\n",
              "      <td>2020</td>\n",
              "      <td>253</td>\n",
              "    </tr>\n",
              "    <tr>\n",
              "      <th>9</th>\n",
              "      <td>KOTA BANDUNG</td>\n",
              "      <td>2021</td>\n",
              "      <td>255</td>\n",
              "    </tr>\n",
              "  </tbody>\n",
              "</table>\n",
              "</div>\n",
              "      <button class=\"colab-df-convert\" onclick=\"convertToInteractive('df-8130db64-f198-4a04-a9cd-791d763c5bd6')\"\n",
              "              title=\"Convert this dataframe to an interactive table.\"\n",
              "              style=\"display:none;\">\n",
              "        \n",
              "  <svg xmlns=\"http://www.w3.org/2000/svg\" height=\"24px\"viewBox=\"0 0 24 24\"\n",
              "       width=\"24px\">\n",
              "    <path d=\"M0 0h24v24H0V0z\" fill=\"none\"/>\n",
              "    <path d=\"M18.56 5.44l.94 2.06.94-2.06 2.06-.94-2.06-.94-.94-2.06-.94 2.06-2.06.94zm-11 1L8.5 8.5l.94-2.06 2.06-.94-2.06-.94L8.5 2.5l-.94 2.06-2.06.94zm10 10l.94 2.06.94-2.06 2.06-.94-2.06-.94-.94-2.06-.94 2.06-2.06.94z\"/><path d=\"M17.41 7.96l-1.37-1.37c-.4-.4-.92-.59-1.43-.59-.52 0-1.04.2-1.43.59L10.3 9.45l-7.72 7.72c-.78.78-.78 2.05 0 2.83L4 21.41c.39.39.9.59 1.41.59.51 0 1.02-.2 1.41-.59l7.78-7.78 2.81-2.81c.8-.78.8-2.07 0-2.86zM5.41 20L4 18.59l7.72-7.72 1.47 1.35L5.41 20z\"/>\n",
              "  </svg>\n",
              "      </button>\n",
              "      \n",
              "  <style>\n",
              "    .colab-df-container {\n",
              "      display:flex;\n",
              "      flex-wrap:wrap;\n",
              "      gap: 12px;\n",
              "    }\n",
              "\n",
              "    .colab-df-convert {\n",
              "      background-color: #E8F0FE;\n",
              "      border: none;\n",
              "      border-radius: 50%;\n",
              "      cursor: pointer;\n",
              "      display: none;\n",
              "      fill: #1967D2;\n",
              "      height: 32px;\n",
              "      padding: 0 0 0 0;\n",
              "      width: 32px;\n",
              "    }\n",
              "\n",
              "    .colab-df-convert:hover {\n",
              "      background-color: #E2EBFA;\n",
              "      box-shadow: 0px 1px 2px rgba(60, 64, 67, 0.3), 0px 1px 3px 1px rgba(60, 64, 67, 0.15);\n",
              "      fill: #174EA6;\n",
              "    }\n",
              "\n",
              "    [theme=dark] .colab-df-convert {\n",
              "      background-color: #3B4455;\n",
              "      fill: #D2E3FC;\n",
              "    }\n",
              "\n",
              "    [theme=dark] .colab-df-convert:hover {\n",
              "      background-color: #434B5C;\n",
              "      box-shadow: 0px 1px 3px 1px rgba(0, 0, 0, 0.15);\n",
              "      filter: drop-shadow(0px 1px 2px rgba(0, 0, 0, 0.3));\n",
              "      fill: #FFFFFF;\n",
              "    }\n",
              "  </style>\n",
              "\n",
              "      <script>\n",
              "        const buttonEl =\n",
              "          document.querySelector('#df-8130db64-f198-4a04-a9cd-791d763c5bd6 button.colab-df-convert');\n",
              "        buttonEl.style.display =\n",
              "          google.colab.kernel.accessAllowed ? 'block' : 'none';\n",
              "\n",
              "        async function convertToInteractive(key) {\n",
              "          const element = document.querySelector('#df-8130db64-f198-4a04-a9cd-791d763c5bd6');\n",
              "          const dataTable =\n",
              "            await google.colab.kernel.invokeFunction('convertToInteractive',\n",
              "                                                     [key], {});\n",
              "          if (!dataTable) return;\n",
              "\n",
              "          const docLinkHtml = 'Like what you see? Visit the ' +\n",
              "            '<a target=\"_blank\" href=https://colab.research.google.com/notebooks/data_table.ipynb>data table notebook</a>'\n",
              "            + ' to learn more about interactive tables.';\n",
              "          element.innerHTML = '';\n",
              "          dataTable['output_type'] = 'display_data';\n",
              "          await google.colab.output.renderOutput(dataTable, element);\n",
              "          const docLink = document.createElement('div');\n",
              "          docLink.innerHTML = docLinkHtml;\n",
              "          element.appendChild(docLink);\n",
              "        }\n",
              "      </script>\n",
              "    </div>\n",
              "  </div>\n",
              "  "
            ]
          },
          "metadata": {},
          "execution_count": 93
        }
      ]
    },
    {
      "cell_type": "markdown",
      "source": [
        "###1. KABUPATEN CIANJUR"
      ],
      "metadata": {
        "id": "U2YEc9XOOhz9"
      }
    },
    {
      "cell_type": "code",
      "source": [
        "kabupaten_cianjur = dfhypothesis.loc[dfhypothesis['kabupaten'] == 'KABUPATEN CIANJUR'].reset_index().drop('index', axis=1)\n",
        "print(kabupaten_cianjur, '\\n')\n",
        "\n",
        "#matplotlib\n",
        "kabupaten_cianjur.plot.hist(title='KABUPATEN CIANJUR', color='skyblue', bins=25)  \n",
        "axvline_mean = plt.axvline(kabupaten_cianjur['jumlah_korban'].mean(), color='red', linestyle='dashed', linewidth=2)\n",
        "axvline_median = plt.axvline(kabupaten_cianjur['jumlah_korban'].median(), color='blue', linestyle='dashed', linewidth=2)\n",
        "plt.show()\n",
        "print('Skewness value :', kabupaten_cianjur['jumlah_korban'].skew().round(2), '\\n')\n",
        "\n",
        "q1_kabupatencianjur, q3_kabupatencianjur = np.percentile(kabupaten_cianjur['jumlah_korban'], [25, 75])\n",
        "\n",
        "# IQR = q3 - q1\n",
        "iqr_kabupatencianjur = q3_kabupatencianjur - q1_kabupatencianjur\n",
        "\n",
        "print('5-number summary :')\n",
        "print('min : %.2f' % kabupaten_cianjur['jumlah_korban'].min())\n",
        "print('q1 : %.2f' % q1_kabupatencianjur)\n",
        "print('median : %.2f' % kabupaten_cianjur['jumlah_korban'].median())\n",
        "print('q3 : %.2f' % q3_kabupatencianjur)\n",
        "print('max : %.2f' % kabupaten_cianjur['jumlah_korban'].max(), '\\n')\n",
        "\n",
        "# Upper bound = Q3 + 3*IQR         \n",
        "upper_limit_kabupatencianjur = q3_kabupatencianjur + 1.5*iqr_kabupatencianjur\n",
        "\n",
        "# Lower boundaries = Q1 - 3*IQR\n",
        "lower_limit_kabupatencianjur = q1_kabupatencianjur - 1.5*iqr_kabupatencianjur\n",
        "\n",
        "print('IQR = ', iqr_kabupatencianjur)\n",
        "print('Upper limit = ', upper_limit_kabupatencianjur)\n",
        "print('Lower limit = ', lower_limit_kabupatencianjur)"
      ],
      "metadata": {
        "colab": {
          "base_uri": "https://localhost:8080/",
          "height": 611
        },
        "id": "tKMhx6xuOl1z",
        "outputId": "7140d099-1645-4646-b8c7-67f5113cf090"
      },
      "execution_count": 94,
      "outputs": [
        {
          "output_type": "stream",
          "name": "stdout",
          "text": [
            "           kabupaten  tahun  jumlah_korban\n",
            "0  KABUPATEN CIANJUR   2017             11\n",
            "1  KABUPATEN CIANJUR   2018              6\n",
            "2  KABUPATEN CIANJUR   2019              3\n",
            "3  KABUPATEN CIANJUR   2020              2\n",
            "4  KABUPATEN CIANJUR   2021              8 \n",
            "\n"
          ]
        },
        {
          "output_type": "display_data",
          "data": {
            "text/plain": [
              "<Figure size 432x288 with 1 Axes>"
            ],
            "image/png": "[encoded data removed]"
          },
          "metadata": {
            "needs_background": "light"
          }
        },
        {
          "output_type": "stream",
          "name": "stdout",
          "text": [
            "Skewness value : 0.35 \n",
            "\n",
            "5-number summary :\n",
            "min : 2.00\n",
            "q1 : 3.00\n",
            "median : 6.00\n",
            "q3 : 8.00\n",
            "max : 11.00 \n",
            "\n",
            "IQR =  5.0\n",
            "Upper limit =  15.5\n",
            "Lower limit =  -4.5\n"
          ]
        }
      ]
    },
    {
      "cell_type": "markdown",
      "source": [
        "***Outliers in KABUPATEN CIANJUR***"
      ],
      "metadata": {
        "id": "rkVDpmOxRkkn"
      }
    },
    {
      "cell_type": "code",
      "source": [
        "sns.boxplot(data=kabupaten_cianjur, y='jumlah_korban')"
      ],
      "metadata": {
        "colab": {
          "base_uri": "https://localhost:8080/",
          "height": 269
        },
        "id": "zvMptJCJRpgY",
        "outputId": "8d57d22c-e208-44af-edab-4ddb3e6511eb"
      },
      "execution_count": 95,
      "outputs": [
        {
          "output_type": "execute_result",
          "data": {
            "text/plain": [
              "<matplotlib.axes._subplots.AxesSubplot at 0x7fe070853bb0>"
            ]
          },
          "metadata": {},
          "execution_count": 95
        },
        {
          "output_type": "display_data",
          "data": {
            "text/plain": [
              "<Figure size 432x288 with 1 Axes>"
            ],
            "image/png": "[encoded data removed]"
          },
          "metadata": {
            "needs_background": "light"
          }
        }
      ]
    },
    {
      "cell_type": "markdown",
      "source": [
        "Since the skewness value 0.35, this means the data distribution is normal as proved by the boxplot graph.\n",
        "The skewness value for normal distribution is **0.5 to 1** or **-0.5 to 1**"
      ],
      "metadata": {
        "id": "xYccaqSHR2x6"
      }
    },
    {
      "cell_type": "markdown",
      "source": [
        "###1. KOTA BANDUNG"
      ],
      "metadata": {
        "id": "DHfjMde1SAPd"
      }
    },
    {
      "cell_type": "code",
      "source": [
        "kota_bandung = dfhypothesis.loc[dfhypothesis['kabupaten'] == 'KOTA BANDUNG'].reset_index().drop('index', axis=1)\n",
        "print(kota_bandung, '\\n')\n",
        "\n",
        "#matplotlib\n",
        "kota_bandung.plot.hist(title='KOTA BANDUNG', color='skyblue', bins=25)  \n",
        "axvline_mean = plt.axvline(kota_bandung['jumlah_korban'].mean(), color='red', linestyle='dashed', linewidth=2)\n",
        "axvline_median = plt.axvline(kota_bandung['jumlah_korban'].median(), color='blue', linestyle='dashed', linewidth=2)\n",
        "plt.show()\n",
        "print('Skewness value :', kota_bandung['jumlah_korban'].skew().round(2), '\\n')\n",
        "\n",
        "q1_kotabandung, q3_kotabandung = np.percentile(kota_bandung['jumlah_korban'], [25, 75])\n",
        "\n",
        "# IQR = q3 - q1\n",
        "iqr_kotabandung = q3_kotabandung - q1_kotabandung\n",
        "\n",
        "print('5-number summary :')\n",
        "print('min : %.2f' % kota_bandung['jumlah_korban'].min())\n",
        "print('q1 : %.2f' % q1_kotabandung)\n",
        "print('median : %.2f' % kota_bandung['jumlah_korban'].median())\n",
        "print('q3 : %.2f' % q3_kotabandung)\n",
        "print('max : %.2f' % kota_bandung['jumlah_korban'].max(), '\\n')\n",
        "\n",
        "# Upper bound = Q3 + 3*IQR         \n",
        "upper_limit_kotabandung = q3_kotabandung + 1.5*iqr_kotabandung\n",
        "\n",
        "# Lower boundaries = Q1 - 3*IQR\n",
        "lower_limit_kotabandung = q1_kotabandung - 1.5*iqr_kotabandung\n",
        "\n",
        "print('IQR = ', iqr_kotabandung)\n",
        "print('Upper limit = ', upper_limit_kotabandung)\n",
        "print('Lower limit = ', lower_limit_kotabandung)"
      ],
      "metadata": {
        "colab": {
          "base_uri": "https://localhost:8080/",
          "height": 611
        },
        "id": "rxyBYQD5SFsF",
        "outputId": "b2032b99-ba0d-43fc-97e5-abdb63f875c5"
      },
      "execution_count": 96,
      "outputs": [
        {
          "output_type": "stream",
          "name": "stdout",
          "text": [
            "      kabupaten  tahun  jumlah_korban\n",
            "0  KOTA BANDUNG   2017             54\n",
            "1  KOTA BANDUNG   2018             67\n",
            "2  KOTA BANDUNG   2019            296\n",
            "3  KOTA BANDUNG   2020            253\n",
            "4  KOTA BANDUNG   2021            255 \n",
            "\n"
          ]
        },
        {
          "output_type": "display_data",
          "data": {
            "text/plain": [
              "<Figure size 432x288 with 1 Axes>"
            ],
            "image/png": "[encoded data removed]"
          },
          "metadata": {
            "needs_background": "light"
          }
        },
        {
          "output_type": "stream",
          "name": "stdout",
          "text": [
            "Skewness value : -0.51 \n",
            "\n",
            "5-number summary :\n",
            "min : 54.00\n",
            "q1 : 67.00\n",
            "median : 253.00\n",
            "q3 : 255.00\n",
            "max : 296.00 \n",
            "\n",
            "IQR =  188.0\n",
            "Upper limit =  537.0\n",
            "Lower limit =  -215.0\n"
          ]
        }
      ]
    },
    {
      "cell_type": "markdown",
      "source": [
        "***Outliers in KOTA BANDUNG***"
      ],
      "metadata": {
        "id": "8dgpom0QTr20"
      }
    },
    {
      "cell_type": "code",
      "source": [
        "sns.boxplot(data=kota_bandung, y='jumlah_korban')"
      ],
      "metadata": {
        "colab": {
          "base_uri": "https://localhost:8080/",
          "height": 269
        },
        "id": "e1vv0tkXTune",
        "outputId": "8789977e-4b89-4b61-ca4c-f1a0b7b0a526"
      },
      "execution_count": 97,
      "outputs": [
        {
          "output_type": "execute_result",
          "data": {
            "text/plain": [
              "<matplotlib.axes._subplots.AxesSubplot at 0x7fe06f4b09a0>"
            ]
          },
          "metadata": {},
          "execution_count": 97
        },
        {
          "output_type": "display_data",
          "data": {
            "text/plain": [
              "<Figure size 432x288 with 1 Axes>"
            ],
            "image/png": "[encoded data removed]"
          },
          "metadata": {
            "needs_background": "light"
          }
        }
      ]
    },
    {
      "cell_type": "markdown",
      "source": [
        "Since the skewness value -0.51, this means the data distribution is normal as proved by the boxplot graph. The skewness value for normal distribution is **0.5 to 1** or **-0.5 to -1**"
      ],
      "metadata": {
        "id": "ppZrwzobT62A"
      }
    },
    {
      "cell_type": "markdown",
      "source": [
        "### Hypothesis Proving"
      ],
      "metadata": {
        "id": "IgXaiHTqUSJ7"
      }
    },
    {
      "cell_type": "markdown",
      "source": [
        "Standard deviation comparison KABUPATEN BANDUNG vs. KOTA BANDUNG :"
      ],
      "metadata": {
        "id": "ccvroKaCUscS"
      }
    },
    {
      "cell_type": "code",
      "source": [
        "# standard deviation KABUPATEN CIANJUR vs. KOTA BANDUNG\n",
        "print('stdv KABUPATEN CIANJUR :', kabupaten_cianjur['jumlah_korban'].std().round(2))\n",
        "print('stdv KOTA BANDUNG :', kota_bandung['jumlah_korban'].std().round(2))"
      ],
      "metadata": {
        "colab": {
          "base_uri": "https://localhost:8080/"
        },
        "id": "Aq5QIhkUU_I8",
        "outputId": "4769d36d-ed9e-43c0-cc8d-c522f2099055"
      },
      "execution_count": 98,
      "outputs": [
        {
          "output_type": "stream",
          "name": "stdout",
          "text": [
            "stdv KABUPATEN CIANJUR : 3.67\n",
            "stdv KOTA BANDUNG : 115.03\n"
          ]
        }
      ]
    },
    {
      "cell_type": "markdown",
      "source": [
        "Variance comparison KABUPATEN CIANJUR vs. KOTA BANDUNG :"
      ],
      "metadata": {
        "id": "DWQG7avuVc5m"
      }
    },
    {
      "cell_type": "code",
      "source": [
        "# variance KABUPATEN CIANJUR vs. KOTA BANDUNG\n",
        "print('var KABUPATEN CIANJUR  :', kabupaten_cianjur['jumlah_korban'].var().round(2))\n",
        "print('var KOTA BANDUNG :', kota_bandung['jumlah_korban'].var().round(2))"
      ],
      "metadata": {
        "colab": {
          "base_uri": "https://localhost:8080/"
        },
        "id": "QVZRs4yxVkVz",
        "outputId": "32548cde-fb79-4a0f-9507-6b3e9c8c3a41"
      },
      "execution_count": 99,
      "outputs": [
        {
          "output_type": "stream",
          "name": "stdout",
          "text": [
            "var KABUPATEN CIANJUR  : 13.5\n",
            "var KOTA BANDUNG : 13232.5\n"
          ]
        }
      ]
    },
    {
      "cell_type": "markdown",
      "source": [
        "Range comparison KABUPATEN CIANJUR vs. KOTA BANDUNG :"
      ],
      "metadata": {
        "id": "aQJsLCekVrgS"
      }
    },
    {
      "cell_type": "code",
      "source": [
        "# range KABUPATEN CIANJUR vs. KOTA BANDUNG\n",
        "print('range KABUPATEN CIANJUR :', kabupaten_cianjur['jumlah_korban'].max().round(2) - kabupaten_cianjur['jumlah_korban'].min().round(2))\n",
        "print('range KOTA BANDUNG :', kota_bandung['jumlah_korban'].max().round(2) - kota_bandung['jumlah_korban'].min().round(2))"
      ],
      "metadata": {
        "colab": {
          "base_uri": "https://localhost:8080/"
        },
        "id": "IUV2Tj9kVwcj",
        "outputId": "582d5d7a-fdd5-41ad-b23e-9615f79911e2"
      },
      "execution_count": 100,
      "outputs": [
        {
          "output_type": "stream",
          "name": "stdout",
          "text": [
            "range KABUPATEN CIANJUR : 9\n",
            "range KOTA BANDUNG : 242\n"
          ]
        }
      ]
    },
    {
      "cell_type": "markdown",
      "source": [
        "Take a look once again the hypothesis statement :\n",
        "\n",
        "      μ = KOTA BANDUNG  \n",
        "      x = KABUPATEN CIANJUR\n",
        "  \n",
        "\n",
        "State the first hypothesis :  \n",
        "   **𝐻0 : μ family violence = x family violence**  \n",
        "\n",
        "State the first hypothesis :  \n",
        "   **𝐻1 : μ family violence != x family violence**  \n",
        "    \n",
        "The null hypothesis (H0) states that KOTA BANDUNG has a same tendency in family violence or social behavior with KABUPATEN CIANJUR or vice versa.  \n",
        "\n",
        "The alternative hypothesis (H1) states that KOTA BANDUNG has no same tendency or in family violence or social behavior with KABUPATEN CIANJUR or vice versa."
      ],
      "metadata": {
        "id": "nn-yks__fQQY"
      }
    },
    {
      "cell_type": "markdown",
      "source": [
        "**Hypothesis testing using T-Test wih 2 sample 2 tailed** "
      ],
      "metadata": {
        "id": "uDXuO-fte7RZ"
      }
    },
    {
      "cell_type": "code",
      "source": [
        "# t-test\n",
        "t_stat, p_val = stats.ttest_ind(kota_bandung['jumlah_korban'], kabupaten_cianjur['jumlah_korban'])\n",
        "print('P-value = ',p_val.round(3)*100, '%')\n",
        "print('t-statistics = ',t_stat.round(3))"
      ],
      "metadata": {
        "colab": {
          "base_uri": "https://localhost:8080/"
        },
        "id": "8NgJyxYtfFL1",
        "outputId": "53564897-22d4-4932-839b-aa128250e57c"
      },
      "execution_count": 103,
      "outputs": [
        {
          "output_type": "stream",
          "name": "stdout",
          "text": [
            "P-value =  0.8 %\n",
            "t-statistics =  3.478\n"
          ]
        }
      ]
    },
    {
      "cell_type": "code",
      "source": [
        "#simulation\n",
        "kotabandung_ttest = np.random.normal(kota_bandung['jumlah_korban'].mean(), kota_bandung['jumlah_korban'].std(), 10000)\n",
        "kabcianjur_ttest = np.random.normal(kabupaten_cianjur['jumlah_korban'].mean(), kabupaten_cianjur['jumlah_korban'].std(), 10000)\n",
        "\n",
        "# confidence interval based on KOTA BANDUNG victims with critical value 0.05\n",
        "ci = stats.norm.interval(0.95, kota_bandung['jumlah_korban'].mean(), kota_bandung['jumlah_korban'].std())\n",
        "\n",
        "# pdf visualization\n",
        "plt.figure(figsize=(16,5))\n",
        "sns.distplot(kotabandung_ttest, label='KOTA BANDUNG', color='blue')\n",
        "sns.distplot(kabcianjur_ttest, label='KABUPATEN CIANJUR', color='red')\n",
        "\n",
        "# mean\n",
        "plt.axvline(kota_bandung['jumlah_korban'].mean(), color='blue', linewidth=2, label='KOTA BANDUNG victims mean')\n",
        "plt.axvline(kabupaten_cianjur['jumlah_korban'].mean(), color='red',  linewidth=2, label='KABUPATEN CIANJUR victims mean')\n",
        "\n",
        "plt.axvline(ci[1], color='green', linestyle='dashed', linewidth=2, label='confidence threshold of 95%')\n",
        "plt.axvline(ci[0], color='green', linestyle='dashed', linewidth=2, label='confidence threshold of 95%')\n",
        "\n",
        "# alternative hypotesis\n",
        "plt.axvline(kotabandung_ttest.mean()+t_stat*kotabandung_ttest.std(), color='black', linestyle='dashed', linewidth=2, label = 'Alternative Hypothesis')\n",
        "plt.axvline(kotabandung_ttest.mean()-t_stat*kotabandung_ttest.std(), color='black', linestyle='dashed', linewidth=2)\n",
        "\n",
        "plt.legend()\n",
        "print(ci[0])"
      ],
      "metadata": {
        "colab": {
          "base_uri": "https://localhost:8080/",
          "height": 427
        },
        "id": "PdaKgCRprzD2",
        "outputId": "ca0c447f-a9a4-44c5-ff43-f292fc054ffa"
      },
      "execution_count": 111,
      "outputs": [
        {
          "output_type": "stream",
          "name": "stderr",
          "text": [
            "/usr/local/lib/python3.8/dist-packages/seaborn/distributions.py:2619: FutureWarning: `distplot` is a deprecated function and will be removed in a future version. Please adapt your code to use either `displot` (a figure-level function with similar flexibility) or `histplot` (an axes-level function for histograms).\n",
            "  warnings.warn(msg, FutureWarning)\n",
            "/usr/local/lib/python3.8/dist-packages/seaborn/distributions.py:2619: FutureWarning: `distplot` is a deprecated function and will be removed in a future version. Please adapt your code to use either `displot` (a figure-level function with similar flexibility) or `histplot` (an axes-level function for histograms).\n",
            "  warnings.warn(msg, FutureWarning)\n"
          ]
        },
        {
          "output_type": "stream",
          "name": "stdout",
          "text": [
            "-40.45976103250669\n"
          ]
        },
        {
          "output_type": "display_data",
          "data": {
            "text/plain": [
              "<Figure size 1152x360 with 1 Axes>"
            ],
            "image/png": "[encoded data removed]"
          },
          "metadata": {
            "needs_background": "light"
          }
        }
      ]
    },
    {
      "cell_type": "markdown",
      "source": [
        "**Hypothesis result**  \n",
        "The T-Test method has proved that there is significant result between 2 variables; KOTA BANDUNG and KABUPATEN CIANJUR.  \n",
        "\n",
        "The null hypothesis states that KOTA BANDUNG and KABUPATEN CIANJUR has the same social behavior regarding the family violence issue. Meanwhile, the alternative hypothesis states that KOTA BANDUNG and KABUPATEN CIANJUR has no same social behavior regarding the family violence issue.  \n",
        "\n",
        "However, the T-Test method has shown the result for those 2 different hypothesis. As the graphic shown above, the black-dotted line is alternative hypothesis, it lies outside of confidence threshold line. This indicates that **null hypothesis is rejected**.   \n",
        "\n",
        "So, in other words, people in KABUPATEN CIANJUR has no same tendency in social issue regarding the family violence in KOTA BANDUNG, or vice versa.\n"
      ],
      "metadata": {
        "id": "Jo4_27cY1luj"
      }
    },
    {
      "cell_type": "markdown",
      "source": [
        "# CONCLUSION"
      ],
      "metadata": {
        "id": "MUDLF69W4wJS"
      }
    },
    {
      "cell_type": "markdown",
      "source": [
        "1. There are 27 cities in West Java  which has social issue of family violence.\n",
        "2. Female victims is greater than male victims.\n",
        "3. The highest number of male victims is in range 6 - 12 years old.\n",
        "4. The highest number of female victims is in range 13 - 17 years old.\n",
        "5. Total male victims from 2017 to 2021 is 1205 persons.\n",
        "6. Total female victims from 2017 to 2021 is 4690 persons.\n",
        "7. The average victims both male and female is 44 persons per city per year.\n",
        "8. Kota Bandung is the highest number of family violence with 925 persons during 2017 to 2021.\n",
        "9. Kabupaten Cianjur is the lowest number of family violence with 30 persons during 2017 to 2021.\n"
      ],
      "metadata": {
        "id": "WgMkjKVB4y5X"
      }
    }
  ]
}